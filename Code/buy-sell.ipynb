{
 "metadata": {
  "language_info": {
   "codemirror_mode": {
    "name": "ipython",
    "version": 3
   },
   "file_extension": ".py",
   "mimetype": "text/x-python",
   "name": "python",
   "nbconvert_exporter": "python",
   "pygments_lexer": "ipython3",
   "version": "3.7.6-final"
  },
  "orig_nbformat": 2,
  "kernelspec": {
   "name": "python3",
   "display_name": "Python 3"
  }
 },
 "nbformat": 4,
 "nbformat_minor": 2,
 "cells": [
  {
   "cell_type": "code",
   "execution_count": 3,
   "metadata": {},
   "outputs": [],
   "source": [
    "from config import Alpaca_key,Alpaca_secret_key,Alpaca_endpoint\n",
    "\n",
    "import alpaca_trade_api as tradeapi"
   ]
  },
  {
   "cell_type": "code",
   "execution_count": 4,
   "metadata": {},
   "outputs": [],
   "source": [
    "api = tradeapi.REST(Alpaca_key,Alpaca_secret_key,Alpaca_endpoint)"
   ]
  },
  {
   "cell_type": "code",
   "execution_count": 5,
   "metadata": {},
   "outputs": [],
   "source": [
    "def buy_stock(symbol='SPY',qty=1,type='market',time_in_force='day'):\n",
    "    api.submit_order(\n",
    "        symbol=symbol,\n",
    "        qty=qty,\n",
    "        side='buy',\n",
    "        type=type,\n",
    "        time_in_force=time_in_force\n",
    "    )"
   ]
  },
  {
   "cell_type": "code",
   "execution_count": 6,
   "metadata": {},
   "outputs": [],
   "source": [
    "def sell_stock(symbol='SPY',qty=1,type='market',time_in_force='day'):\n",
    "    api.submit_order(\n",
    "        symbol=symbol,\n",
    "        qty=qty,\n",
    "        side='sell',\n",
    "        type=type,\n",
    "        time_in_force=time_in_force\n",
    "    )"
   ]
  },
  {
   "cell_type": "code",
   "execution_count": 8,
   "metadata": {},
   "outputs": [
    {
     "output_type": "execute_result",
     "data": {
      "text/plain": [
       "[Position({   'asset_class': 'us_equity',\n",
       "     'asset_id': 'b28f4066-5c6d-479b-a2af-85dc1a8f16fb',\n",
       "     'avg_entry_price': '357.455',\n",
       "     'change_today': '-0.0009287141530408',\n",
       "     'cost_basis': '1429.82',\n",
       "     'current_price': '355',\n",
       "     'exchange': 'ARCA',\n",
       "     'lastday_price': '355.33',\n",
       "     'market_value': '1420',\n",
       "     'qty': '4',\n",
       "     'side': 'long',\n",
       "     'symbol': 'SPY',\n",
       "     'unrealized_intraday_pl': '-9.82',\n",
       "     'unrealized_intraday_plpc': '-0.0068679973702984',\n",
       "     'unrealized_pl': '-9.82',\n",
       "     'unrealized_plpc': '-0.0068679973702984'})]"
      ]
     },
     "metadata": {},
     "execution_count": 8
    }
   ],
   "source": [
    "positions=api.list_positions()\n",
    "positions"
   ]
  },
  {
   "cell_type": "code",
   "execution_count": 23,
   "metadata": {},
   "outputs": [],
   "source": [
    "qty = positions[0].qty\n",
    "symbol = positions[0].symbol"
   ]
  },
  {
   "cell_type": "code",
   "execution_count": 27,
   "metadata": {},
   "outputs": [
    {
     "output_type": "execute_result",
     "data": {
      "text/plain": [
       "[Position({   'asset_class': 'us_equity',\n",
       "     'asset_id': 'b28f4066-5c6d-479b-a2af-85dc1a8f16fb',\n",
       "     'avg_entry_price': '357.455',\n",
       "     'change_today': '-0.0009287141530408',\n",
       "     'cost_basis': '1429.82',\n",
       "     'current_price': '355',\n",
       "     'exchange': 'ARCA',\n",
       "     'lastday_price': '355.33',\n",
       "     'market_value': '1420',\n",
       "     'qty': '4',\n",
       "     'side': 'long',\n",
       "     'symbol': 'SPY',\n",
       "     'unrealized_intraday_pl': '-9.82',\n",
       "     'unrealized_intraday_plpc': '-0.0068679973702984',\n",
       "     'unrealized_pl': '-9.82',\n",
       "     'unrealized_plpc': '-0.0068679973702984'})]"
      ]
     },
     "metadata": {},
     "execution_count": 27
    }
   ],
   "source": [
    "positions"
   ]
  },
  {
   "cell_type": "code",
   "execution_count": 34,
   "metadata": {},
   "outputs": [],
   "source": [
    "def sell_all():\n",
    "    positions=api.list_positions()\n",
    "    for i in positions:\n",
    "        qty = i.qty\n",
    "        symbol = i.symbol\n",
    "        sell_stock(qty=qty,symbol=symbol)    "
   ]
  },
  {
   "cell_type": "code",
   "execution_count": 35,
   "metadata": {},
   "outputs": [],
   "source": []
  }
 ]
}