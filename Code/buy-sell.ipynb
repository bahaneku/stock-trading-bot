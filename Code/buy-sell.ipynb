{
 "metadata": {
  "language_info": {
   "codemirror_mode": {
    "name": "ipython",
    "version": 3
   },
   "file_extension": ".py",
   "mimetype": "text/x-python",
   "name": "python",
   "nbconvert_exporter": "python",
   "pygments_lexer": "ipython3",
   "version": "3.7.6-final"
  },
  "orig_nbformat": 2,
  "kernelspec": {
   "name": "python3",
   "display_name": "Python 3"
  }
 },
 "nbformat": 4,
 "nbformat_minor": 2,
 "cells": [
  {
   "cell_type": "code",
   "execution_count": 3,
   "metadata": {},
   "outputs": [],
   "source": [
    "from config import Alpaca_key,Alpaca_secret_key,Alpaca_endpoint\n",
    "\n",
    "import alpaca_trade_api as tradeapi"
   ]
  },
  {
   "cell_type": "code",
   "execution_count": 4,
   "metadata": {},
   "outputs": [],
   "source": [
    "api = tradeapi.REST(Alpaca_key,Alpaca_secret_key,Alpaca_endpoint)"
   ]
  },
  {
   "cell_type": "code",
   "execution_count": 5,
   "metadata": {},
   "outputs": [],
   "source": [
    "def buy_stock(symbol='SPY',qty=1,type='market',time_in_force='day'):\n",
    "    api.submit_order(\n",
    "        symbol=symbol,\n",
    "        qty=qty,\n",
    "        side='buy',\n",
    "        type=type,\n",
    "        time_in_force=time_in_force\n",
    "    )"
   ]
  },
  {
   "cell_type": "code",
   "execution_count": 6,
   "metadata": {},
   "outputs": [],
   "source": [
    "def sell_stock(symbol='SPY',qty=1,type='market',time_in_force='day'):\n",
    "    api.submit_order(\n",
    "        symbol=symbol,\n",
    "        qty=qty,\n",
    "        side='sell',\n",
    "        type=type,\n",
    "        time_in_force=time_in_force\n",
    "    )"
   ]
  },
  {
   "cell_type": "code",
   "execution_count": 34,
   "metadata": {},
   "outputs": [],
   "source": [
    "def sell_all():\n",
    "    positions=api.list_positions()\n",
    "    for i in positions:\n",
    "        qty = i.qty\n",
    "        symbol = i.symbol\n",
    "        sell_stock(qty=qty,symbol=symbol)    "
   ]
  },
  {
   "cell_type": "code",
   "execution_count": 35,
   "metadata": {},
   "outputs": [],
   "source": []
  }
 ]
}