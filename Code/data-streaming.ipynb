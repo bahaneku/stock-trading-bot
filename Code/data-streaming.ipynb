{
 "metadata": {
  "language_info": {
   "codemirror_mode": {
    "name": "ipython",
    "version": 3
   },
   "file_extension": ".py",
   "mimetype": "text/x-python",
   "name": "python",
   "nbconvert_exporter": "python",
   "pygments_lexer": "ipython3",
   "version": "3.7.6-final"
  },
  "orig_nbformat": 2,
  "kernelspec": {
   "name": "python3",
   "display_name": "Python 3"
  }
 },
 "nbformat": 4,
 "nbformat_minor": 2,
 "cells": [
  {
   "cell_type": "code",
   "execution_count": 1,
   "metadata": {},
   "outputs": [],
   "source": [
    "from config import Alpaca_key,Alpaca_secret_key,Alpaca_endpoint\n",
    "\n",
    "import alpaca_trade_api as tradeapi\n",
    "\n",
    "import threading\n",
    "\n",
    "ws_url = 'wss://paper-api.alpaca.markets'\n",
    "\n",
    "api = tradeapi.REST(Alpaca_key,Alpaca_secret_key,Alpaca_endpoint)\n",
    "\n",
    "conn = tradeapi.stream2.StreamConn(Alpaca_key,Alpaca_secret_key,base_url=Alpaca_endpoint,data_url=ws_url)"
   ]
  },
  {
   "cell_type": "code",
   "execution_count": 5,
   "metadata": {},
   "outputs": [],
   "source": [
    "@conn.on(r'^AM.SPY$')\n",
    "async def on_minute_bars(conn, channel, bar):\n",
    "    print('bars', bar)"
   ]
  },
  {
   "cell_type": "code",
   "execution_count": 6,
   "metadata": {},
   "outputs": [],
   "source": [
    "def ws_start():\n",
    "    conn.run(['on_minute_bars','AM.SPY'])"
   ]
  },
  {
   "cell_type": "code",
   "execution_count": 7,
   "metadata": {},
   "outputs": [],
   "source": [
    "ws_thread=threading.Thread(target=ws_start, daemon=True)"
   ]
  },
  {
   "cell_type": "code",
   "execution_count": 8,
   "metadata": {},
   "outputs": [
    {
     "output_type": "stream",
     "name": "stderr",
     "text": [
      "ERROR:root:error while consuming ws messages: This event loop is already running\n",
      "Exception in thread Thread-5:\n",
      "Traceback (most recent call last):\n",
      "  File \"C:\\Users\\Gabe\\anaconda3\\lib\\site-packages\\alpaca_trade_api\\stream2.py\", line 297, in run\n",
      "    loop.run_until_complete(self.subscribe(initial_channels))\n",
      "  File \"C:\\Users\\Gabe\\anaconda3\\lib\\asyncio\\base_events.py\", line 570, in run_until_complete\n",
      "    self.run_forever()\n",
      "  File \"C:\\Users\\Gabe\\anaconda3\\lib\\asyncio\\base_events.py\", line 525, in run_forever\n",
      "    raise RuntimeError('This event loop is already running')\n",
      "RuntimeError: This event loop is already running\n",
      "\n",
      "During handling of the above exception, another exception occurred:\n",
      "\n",
      "Traceback (most recent call last):\n",
      "  File \"C:\\Users\\Gabe\\anaconda3\\lib\\threading.py\", line 926, in _bootstrap_inner\n",
      "    self.run()\n",
      "  File \"C:\\Users\\Gabe\\anaconda3\\lib\\threading.py\", line 870, in run\n",
      "    self._target(*self._args, **self._kwargs)\n",
      "  File \"<ipython-input-6-1e5eca37bc7a>\", line 2, in ws_start\n",
      "    conn.run(['on_minute_bars','AM.SPY'])\n",
      "  File \"C:\\Users\\Gabe\\anaconda3\\lib\\site-packages\\alpaca_trade_api\\stream2.py\", line 307, in run\n",
      "    loop.run_until_complete(self.close(should_renew))\n",
      "  File \"C:\\Users\\Gabe\\anaconda3\\lib\\asyncio\\base_events.py\", line 570, in run_until_complete\n",
      "    self.run_forever()\n",
      "  File \"C:\\Users\\Gabe\\anaconda3\\lib\\asyncio\\base_events.py\", line 525, in run_forever\n",
      "    raise RuntimeError('This event loop is already running')\n",
      "RuntimeError: This event loop is already running\n",
      "\n"
     ]
    }
   ],
   "source": [
    "ws_thread.start()"
   ]
  },
  {
   "cell_type": "code",
   "execution_count": null,
   "metadata": {},
   "outputs": [],
   "source": []
  }
 ]
}