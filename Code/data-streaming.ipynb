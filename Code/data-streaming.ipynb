{
 "metadata": {
  "language_info": {
   "codemirror_mode": {
    "name": "ipython",
    "version": 3
   },
   "file_extension": ".py",
   "mimetype": "text/x-python",
   "name": "python",
   "nbconvert_exporter": "python",
   "pygments_lexer": "ipython3",
   "version": "3.7.6-final"
  },
  "orig_nbformat": 2,
  "kernelspec": {
   "name": "python3",
   "display_name": "Python 3"
  }
 },
 "nbformat": 4,
 "nbformat_minor": 2,
 "cells": [
  {
   "cell_type": "code",
   "execution_count": 1,
   "metadata": {},
   "outputs": [],
   "source": [
    "from config import Alpaca_key,Alpaca_secret_key,Alpaca_endpoint\n",
    "from sql_conn import engines\n",
    "import alpaca_trade_api as tradeapi\n",
    "from datetime import datetime\n",
    "import schedule\n",
    "import time\n",
    "\n",
    "import sqlalchemy\n",
    "from sqlalchemy import create_engine\n",
    "\n",
    "api = tradeapi.REST(Alpaca_key,Alpaca_secret_key,Alpaca_endpoint)"
   ]
  },
  {
   "cell_type": "code",
   "execution_count": 2,
   "metadata": {},
   "outputs": [],
   "source": [
    "engine=sqlalchemy.create_engine(engines)\n",
    "connection=engine.connect()"
   ]
  },
  {
   "cell_type": "code",
   "execution_count": 3,
   "metadata": {},
   "outputs": [],
   "source": [
    "def get_barset():\n",
    "    barset=api.get_barset('SPY','minute',limit=1)\n",
    "    close=barset['SPY'][0].c\n",
    "    open=barset['SPY'][0].o\n",
    "    high=barset['SPY'][0].h\n",
    "    low=barset['SPY'][0].l\n",
    "    volume=barset['SPY'][0].v\n",
    "    datetime=barset['SPY'][0].t\n",
    "    timestamp=datetime.timestamp()\n",
    "    connection.execute(f'''INSERT INTO min_data(close,open,high,low,volume,timestamp)\n",
    "     VALUES ({close},{open},{high},{low},{volume},{timestamp})''')\n",
    "    print(f'Row Added')"
   ]
  },
  {
   "cell_type": "code",
   "execution_count": 4,
   "metadata": {},
   "outputs": [
    {
     "output_type": "stream",
     "name": "stdout",
     "text": [
      "Row Added 1606175880.0\n"
     ]
    }
   ],
   "source": [
    "schedule.every(1).minutes.do(get_barset)\n",
    "while True:\n",
    "    schedule.run_pending()\n",
    "    time.sleep(1)"
   ]
  },
  {
   "cell_type": "code",
   "execution_count": null,
   "metadata": {},
   "outputs": [],
   "source": []
  }
 ]
}