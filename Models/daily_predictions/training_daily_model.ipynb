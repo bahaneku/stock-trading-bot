{
 "cells": [
  {
   "cell_type": "code",
   "execution_count": 1,
   "metadata": {},
   "outputs": [],
   "source": [
    "import pandas as pd\n",
    "import numpy as np\n",
    "from sklearn import preprocessing"
   ]
  },
  {
   "cell_type": "markdown",
   "metadata": {},
   "source": [
    "## Data Wrangling"
   ]
  },
  {
   "cell_type": "code",
   "execution_count": 3,
   "metadata": {},
   "outputs": [
    {
     "data": {
      "text/html": [
       "<div>\n",
       "<style scoped>\n",
       "    .dataframe tbody tr th:only-of-type {\n",
       "        vertical-align: middle;\n",
       "    }\n",
       "\n",
       "    .dataframe tbody tr th {\n",
       "        vertical-align: top;\n",
       "    }\n",
       "\n",
       "    .dataframe thead th {\n",
       "        text-align: right;\n",
       "    }\n",
       "</style>\n",
       "<table border=\"1\" class=\"dataframe\">\n",
       "  <thead>\n",
       "    <tr style=\"text-align: right;\">\n",
       "      <th></th>\n",
       "      <th>date</th>\n",
       "      <th>open</th>\n",
       "      <th>high</th>\n",
       "      <th>low</th>\n",
       "      <th>close</th>\n",
       "      <th>volume</th>\n",
       "    </tr>\n",
       "  </thead>\n",
       "  <tbody>\n",
       "    <tr>\n",
       "      <th>0</th>\n",
       "      <td>11/1/99</td>\n",
       "      <td>136.5000</td>\n",
       "      <td>137.0000</td>\n",
       "      <td>135.5625</td>\n",
       "      <td>135.5625</td>\n",
       "      <td>4006500</td>\n",
       "    </tr>\n",
       "    <tr>\n",
       "      <th>1</th>\n",
       "      <td>11/2/99</td>\n",
       "      <td>135.9687</td>\n",
       "      <td>137.2500</td>\n",
       "      <td>134.5937</td>\n",
       "      <td>134.5937</td>\n",
       "      <td>6516900</td>\n",
       "    </tr>\n",
       "    <tr>\n",
       "      <th>2</th>\n",
       "      <td>11/3/99</td>\n",
       "      <td>136.0000</td>\n",
       "      <td>136.3750</td>\n",
       "      <td>135.1250</td>\n",
       "      <td>135.5000</td>\n",
       "      <td>7222300</td>\n",
       "    </tr>\n",
       "    <tr>\n",
       "      <th>3</th>\n",
       "      <td>11/4/99</td>\n",
       "      <td>136.7500</td>\n",
       "      <td>137.3593</td>\n",
       "      <td>135.7656</td>\n",
       "      <td>136.5312</td>\n",
       "      <td>7907500</td>\n",
       "    </tr>\n",
       "    <tr>\n",
       "      <th>4</th>\n",
       "      <td>11/5/99</td>\n",
       "      <td>138.6250</td>\n",
       "      <td>139.1093</td>\n",
       "      <td>136.7812</td>\n",
       "      <td>137.8750</td>\n",
       "      <td>7431500</td>\n",
       "    </tr>\n",
       "    <tr>\n",
       "      <th>...</th>\n",
       "      <td>...</td>\n",
       "      <td>...</td>\n",
       "      <td>...</td>\n",
       "      <td>...</td>\n",
       "      <td>...</td>\n",
       "      <td>...</td>\n",
       "    </tr>\n",
       "    <tr>\n",
       "      <th>5297</th>\n",
       "      <td>2020-11-18 00:00:00-05:00</td>\n",
       "      <td>360.9100</td>\n",
       "      <td>361.5000</td>\n",
       "      <td>356.2400</td>\n",
       "      <td>356.2900</td>\n",
       "      <td>57605438</td>\n",
       "    </tr>\n",
       "    <tr>\n",
       "      <th>5298</th>\n",
       "      <td>2020-11-19 00:00:00-05:00</td>\n",
       "      <td>355.6100</td>\n",
       "      <td>358.1800</td>\n",
       "      <td>354.1500</td>\n",
       "      <td>357.7600</td>\n",
       "      <td>47610697</td>\n",
       "    </tr>\n",
       "    <tr>\n",
       "      <th>5299</th>\n",
       "      <td>2020-11-20 00:00:00-05:00</td>\n",
       "      <td>357.5000</td>\n",
       "      <td>357.7200</td>\n",
       "      <td>355.2500</td>\n",
       "      <td>355.3400</td>\n",
       "      <td>47947194</td>\n",
       "    </tr>\n",
       "    <tr>\n",
       "      <th>5300</th>\n",
       "      <td>2020-11-23 00:00:00-05:00</td>\n",
       "      <td>357.2800</td>\n",
       "      <td>358.7900</td>\n",
       "      <td>354.8650</td>\n",
       "      <td>357.4700</td>\n",
       "      <td>49938331</td>\n",
       "    </tr>\n",
       "    <tr>\n",
       "      <th>5301</th>\n",
       "      <td>2020-11-24 00:00:00-05:00</td>\n",
       "      <td>360.2100</td>\n",
       "      <td>363.8050</td>\n",
       "      <td>359.2900</td>\n",
       "      <td>363.1900</td>\n",
       "      <td>49862168</td>\n",
       "    </tr>\n",
       "  </tbody>\n",
       "</table>\n",
       "<p>5302 rows × 6 columns</p>\n",
       "</div>"
      ],
      "text/plain": [
       "                           date      open      high       low     close  \\\n",
       "0                       11/1/99  136.5000  137.0000  135.5625  135.5625   \n",
       "1                       11/2/99  135.9687  137.2500  134.5937  134.5937   \n",
       "2                       11/3/99  136.0000  136.3750  135.1250  135.5000   \n",
       "3                       11/4/99  136.7500  137.3593  135.7656  136.5312   \n",
       "4                       11/5/99  138.6250  139.1093  136.7812  137.8750   \n",
       "...                         ...       ...       ...       ...       ...   \n",
       "5297  2020-11-18 00:00:00-05:00  360.9100  361.5000  356.2400  356.2900   \n",
       "5298  2020-11-19 00:00:00-05:00  355.6100  358.1800  354.1500  357.7600   \n",
       "5299  2020-11-20 00:00:00-05:00  357.5000  357.7200  355.2500  355.3400   \n",
       "5300  2020-11-23 00:00:00-05:00  357.2800  358.7900  354.8650  357.4700   \n",
       "5301  2020-11-24 00:00:00-05:00  360.2100  363.8050  359.2900  363.1900   \n",
       "\n",
       "        volume  \n",
       "0      4006500  \n",
       "1      6516900  \n",
       "2      7222300  \n",
       "3      7907500  \n",
       "4      7431500  \n",
       "...        ...  \n",
       "5297  57605438  \n",
       "5298  47610697  \n",
       "5299  47947194  \n",
       "5300  49938331  \n",
       "5301  49862168  \n",
       "\n",
       "[5302 rows x 6 columns]"
      ]
     },
     "execution_count": 3,
     "metadata": {},
     "output_type": "execute_result"
    }
   ],
   "source": [
    "data=pd.read_csv(\"../../Data/S&P_daily.csv\")\n",
    "data.rename(columns={\"1. open\":\"open\",\"2. high\":\"high\",\"3. low\":\"low\",\"4. close\":\"close\",\"5. volume\":\"volume\"}, inplace=True)\n",
    "data"
   ]
  },
  {
   "cell_type": "code",
   "execution_count": 4,
   "metadata": {},
   "outputs": [
    {
     "data": {
      "text/html": [
       "<div>\n",
       "<style scoped>\n",
       "    .dataframe tbody tr th:only-of-type {\n",
       "        vertical-align: middle;\n",
       "    }\n",
       "\n",
       "    .dataframe tbody tr th {\n",
       "        vertical-align: top;\n",
       "    }\n",
       "\n",
       "    .dataframe thead th {\n",
       "        text-align: right;\n",
       "    }\n",
       "</style>\n",
       "<table border=\"1\" class=\"dataframe\">\n",
       "  <thead>\n",
       "    <tr style=\"text-align: right;\">\n",
       "      <th></th>\n",
       "      <th>date</th>\n",
       "      <th>open</th>\n",
       "      <th>high</th>\n",
       "      <th>low</th>\n",
       "      <th>close</th>\n",
       "      <th>volume</th>\n",
       "    </tr>\n",
       "  </thead>\n",
       "  <tbody>\n",
       "    <tr>\n",
       "      <th>0</th>\n",
       "      <td>1999-11-01</td>\n",
       "      <td>136.5000</td>\n",
       "      <td>137.0000</td>\n",
       "      <td>135.5625</td>\n",
       "      <td>135.5625</td>\n",
       "      <td>4006500.0</td>\n",
       "    </tr>\n",
       "    <tr>\n",
       "      <th>1</th>\n",
       "      <td>1999-11-02</td>\n",
       "      <td>135.9687</td>\n",
       "      <td>137.2500</td>\n",
       "      <td>134.5937</td>\n",
       "      <td>134.5937</td>\n",
       "      <td>6516900.0</td>\n",
       "    </tr>\n",
       "    <tr>\n",
       "      <th>2</th>\n",
       "      <td>1999-11-03</td>\n",
       "      <td>136.0000</td>\n",
       "      <td>136.3750</td>\n",
       "      <td>135.1250</td>\n",
       "      <td>135.5000</td>\n",
       "      <td>7222300.0</td>\n",
       "    </tr>\n",
       "    <tr>\n",
       "      <th>3</th>\n",
       "      <td>1999-11-04</td>\n",
       "      <td>136.7500</td>\n",
       "      <td>137.3593</td>\n",
       "      <td>135.7656</td>\n",
       "      <td>136.5312</td>\n",
       "      <td>7907500.0</td>\n",
       "    </tr>\n",
       "    <tr>\n",
       "      <th>4</th>\n",
       "      <td>1999-11-05</td>\n",
       "      <td>138.6250</td>\n",
       "      <td>139.1093</td>\n",
       "      <td>136.7812</td>\n",
       "      <td>137.8750</td>\n",
       "      <td>7431500.0</td>\n",
       "    </tr>\n",
       "    <tr>\n",
       "      <th>...</th>\n",
       "      <td>...</td>\n",
       "      <td>...</td>\n",
       "      <td>...</td>\n",
       "      <td>...</td>\n",
       "      <td>...</td>\n",
       "      <td>...</td>\n",
       "    </tr>\n",
       "    <tr>\n",
       "      <th>5291</th>\n",
       "      <td>2020-11-10</td>\n",
       "      <td>353.4900</td>\n",
       "      <td>355.1800</td>\n",
       "      <td>350.5100</td>\n",
       "      <td>354.0400</td>\n",
       "      <td>85552022.0</td>\n",
       "    </tr>\n",
       "    <tr>\n",
       "      <th>5292</th>\n",
       "      <td>2020-11-11</td>\n",
       "      <td>356.4000</td>\n",
       "      <td>357.5600</td>\n",
       "      <td>355.0600</td>\n",
       "      <td>356.6700</td>\n",
       "      <td>58649048.0</td>\n",
       "    </tr>\n",
       "    <tr>\n",
       "      <th>5293</th>\n",
       "      <td>2020-11-12</td>\n",
       "      <td>355.5800</td>\n",
       "      <td>356.7182</td>\n",
       "      <td>351.2600</td>\n",
       "      <td>353.2100</td>\n",
       "      <td>68118563.0</td>\n",
       "    </tr>\n",
       "    <tr>\n",
       "      <th>5294</th>\n",
       "      <td>2020-11-13</td>\n",
       "      <td>355.2700</td>\n",
       "      <td>358.9000</td>\n",
       "      <td>354.7100</td>\n",
       "      <td>358.1000</td>\n",
       "      <td>62959429.0</td>\n",
       "    </tr>\n",
       "    <tr>\n",
       "      <th>5295</th>\n",
       "      <td>2020-11-16</td>\n",
       "      <td>360.9800</td>\n",
       "      <td>362.7800</td>\n",
       "      <td>359.5900</td>\n",
       "      <td>362.5700</td>\n",
       "      <td>72203007.0</td>\n",
       "    </tr>\n",
       "  </tbody>\n",
       "</table>\n",
       "<p>5296 rows × 6 columns</p>\n",
       "</div>"
      ],
      "text/plain": [
       "            date      open      high       low     close      volume\n",
       "0     1999-11-01  136.5000  137.0000  135.5625  135.5625   4006500.0\n",
       "1     1999-11-02  135.9687  137.2500  134.5937  134.5937   6516900.0\n",
       "2     1999-11-03  136.0000  136.3750  135.1250  135.5000   7222300.0\n",
       "3     1999-11-04  136.7500  137.3593  135.7656  136.5312   7907500.0\n",
       "4     1999-11-05  138.6250  139.1093  136.7812  137.8750   7431500.0\n",
       "...          ...       ...       ...       ...       ...         ...\n",
       "5291  2020-11-10  353.4900  355.1800  350.5100  354.0400  85552022.0\n",
       "5292  2020-11-11  356.4000  357.5600  355.0600  356.6700  58649048.0\n",
       "5293  2020-11-12  355.5800  356.7182  351.2600  353.2100  68118563.0\n",
       "5294  2020-11-13  355.2700  358.9000  354.7100  358.1000  62959429.0\n",
       "5295  2020-11-16  360.9800  362.7800  359.5900  362.5700  72203007.0\n",
       "\n",
       "[5296 rows x 6 columns]"
      ]
     },
     "execution_count": 4,
     "metadata": {},
     "output_type": "execute_result"
    }
   ],
   "source": [
    "# Flipping the dataset\n",
    "data = data[::-1].reset_index(drop=True)\n",
    "data"
   ]
  },
  {
   "cell_type": "code",
   "execution_count": 4,
   "metadata": {},
   "outputs": [
    {
     "data": {
      "text/html": [
       "<div>\n",
       "<style scoped>\n",
       "    .dataframe tbody tr th:only-of-type {\n",
       "        vertical-align: middle;\n",
       "    }\n",
       "\n",
       "    .dataframe tbody tr th {\n",
       "        vertical-align: top;\n",
       "    }\n",
       "\n",
       "    .dataframe thead th {\n",
       "        text-align: right;\n",
       "    }\n",
       "</style>\n",
       "<table border=\"1\" class=\"dataframe\">\n",
       "  <thead>\n",
       "    <tr style=\"text-align: right;\">\n",
       "      <th></th>\n",
       "      <th>open</th>\n",
       "      <th>high</th>\n",
       "      <th>low</th>\n",
       "      <th>close</th>\n",
       "      <th>volume</th>\n",
       "    </tr>\n",
       "  </thead>\n",
       "  <tbody>\n",
       "    <tr>\n",
       "      <th>0</th>\n",
       "      <td>136.5000</td>\n",
       "      <td>137.0000</td>\n",
       "      <td>135.5625</td>\n",
       "      <td>135.5625</td>\n",
       "      <td>4006500</td>\n",
       "    </tr>\n",
       "    <tr>\n",
       "      <th>1</th>\n",
       "      <td>135.9687</td>\n",
       "      <td>137.2500</td>\n",
       "      <td>134.5937</td>\n",
       "      <td>134.5937</td>\n",
       "      <td>6516900</td>\n",
       "    </tr>\n",
       "    <tr>\n",
       "      <th>2</th>\n",
       "      <td>136.0000</td>\n",
       "      <td>136.3750</td>\n",
       "      <td>135.1250</td>\n",
       "      <td>135.5000</td>\n",
       "      <td>7222300</td>\n",
       "    </tr>\n",
       "    <tr>\n",
       "      <th>3</th>\n",
       "      <td>136.7500</td>\n",
       "      <td>137.3593</td>\n",
       "      <td>135.7656</td>\n",
       "      <td>136.5312</td>\n",
       "      <td>7907500</td>\n",
       "    </tr>\n",
       "    <tr>\n",
       "      <th>4</th>\n",
       "      <td>138.6250</td>\n",
       "      <td>139.1093</td>\n",
       "      <td>136.7812</td>\n",
       "      <td>137.8750</td>\n",
       "      <td>7431500</td>\n",
       "    </tr>\n",
       "    <tr>\n",
       "      <th>...</th>\n",
       "      <td>...</td>\n",
       "      <td>...</td>\n",
       "      <td>...</td>\n",
       "      <td>...</td>\n",
       "      <td>...</td>\n",
       "    </tr>\n",
       "    <tr>\n",
       "      <th>5297</th>\n",
       "      <td>360.9100</td>\n",
       "      <td>361.5000</td>\n",
       "      <td>356.2400</td>\n",
       "      <td>356.2900</td>\n",
       "      <td>57605438</td>\n",
       "    </tr>\n",
       "    <tr>\n",
       "      <th>5298</th>\n",
       "      <td>355.6100</td>\n",
       "      <td>358.1800</td>\n",
       "      <td>354.1500</td>\n",
       "      <td>357.7600</td>\n",
       "      <td>47610697</td>\n",
       "    </tr>\n",
       "    <tr>\n",
       "      <th>5299</th>\n",
       "      <td>357.5000</td>\n",
       "      <td>357.7200</td>\n",
       "      <td>355.2500</td>\n",
       "      <td>355.3400</td>\n",
       "      <td>47947194</td>\n",
       "    </tr>\n",
       "    <tr>\n",
       "      <th>5300</th>\n",
       "      <td>357.2800</td>\n",
       "      <td>358.7900</td>\n",
       "      <td>354.8650</td>\n",
       "      <td>357.4700</td>\n",
       "      <td>49938331</td>\n",
       "    </tr>\n",
       "    <tr>\n",
       "      <th>5301</th>\n",
       "      <td>360.2100</td>\n",
       "      <td>363.8050</td>\n",
       "      <td>359.2900</td>\n",
       "      <td>363.1900</td>\n",
       "      <td>49862168</td>\n",
       "    </tr>\n",
       "  </tbody>\n",
       "</table>\n",
       "<p>5302 rows × 5 columns</p>\n",
       "</div>"
      ],
      "text/plain": [
       "          open      high       low     close    volume\n",
       "0     136.5000  137.0000  135.5625  135.5625   4006500\n",
       "1     135.9687  137.2500  134.5937  134.5937   6516900\n",
       "2     136.0000  136.3750  135.1250  135.5000   7222300\n",
       "3     136.7500  137.3593  135.7656  136.5312   7907500\n",
       "4     138.6250  139.1093  136.7812  137.8750   7431500\n",
       "...        ...       ...       ...       ...       ...\n",
       "5297  360.9100  361.5000  356.2400  356.2900  57605438\n",
       "5298  355.6100  358.1800  354.1500  357.7600  47610697\n",
       "5299  357.5000  357.7200  355.2500  355.3400  47947194\n",
       "5300  357.2800  358.7900  354.8650  357.4700  49938331\n",
       "5301  360.2100  363.8050  359.2900  363.1900  49862168\n",
       "\n",
       "[5302 rows x 5 columns]"
      ]
     },
     "execution_count": 4,
     "metadata": {},
     "output_type": "execute_result"
    }
   ],
   "source": [
    "data=data.drop(\"date\", axis=1)\n",
    "data"
   ]
  },
  {
   "cell_type": "markdown",
   "metadata": {},
   "source": [
    "**Scaling the Data**"
   ]
  },
  {
   "cell_type": "code",
   "execution_count": 5,
   "metadata": {},
   "outputs": [],
   "source": [
    "# Scaling all the training data\n",
    "MinMaxScaler = preprocessing.MinMaxScaler()  # MinMaxScaler == data_normaliser\n",
    "X = MinMaxScaler.fit_transform(data) # X == data_normalized"
   ]
  },
  {
   "cell_type": "code",
   "execution_count": 6,
   "metadata": {},
   "outputs": [],
   "source": [
    "history_points=50\n",
    "column=3"
   ]
  },
  {
   "cell_type": "code",
   "execution_count": 7,
   "metadata": {},
   "outputs": [],
   "source": [
    "# Building normalised training data in segments of 50x5\n",
    "# Get the normalised next day open data\n",
    "historical_data_normalised =      np.array([X[i  : i + history_points].copy() for i in range(len(X) - history_points)])\n",
    "next_day_close_values_normalised = np.array([X[:,column][i + history_points].copy() for i in range(len(X) - history_points)])\n",
    "next_day_close_values_normalised = np.expand_dims(next_day_close_values_normalised, -1)"
   ]
  },
  {
   "cell_type": "code",
   "execution_count": 8,
   "metadata": {},
   "outputs": [
    {
     "data": {
      "text/plain": [
       "array([[0.23157219, 0.22759698, 0.23406783, 0.22859055, 0.0044045 ],\n",
       "       [0.22977738, 0.22844623, 0.23075558, 0.22530737, 0.00728718],\n",
       "       [0.22988312, 0.22547388, 0.23257205, 0.22837874, 0.00809719],\n",
       "       [0.23241673, 0.22881751, 0.23476221, 0.23187339, 0.008884  ],\n",
       "       [0.23875076, 0.23476221, 0.23823447, 0.23642741, 0.00833741],\n",
       "       [0.23326127, 0.23226782, 0.2381278 , 0.23685102, 0.00514251],\n",
       "       [0.23832849, 0.23332937, 0.23652501, 0.23245594, 0.00500988],\n",
       "       [0.23072765, 0.23232081, 0.23583063, 0.23589772, 0.00715938],\n",
       "       [0.23727282, 0.23269244, 0.24058498, 0.23854548, 0.0053089 ],\n",
       "       [0.2408621 , 0.23773456, 0.23940989, 0.24278162, 0.01335708],\n",
       "       [0.24286771, 0.23863714, 0.24720914, 0.24389352, 0.00231575],\n",
       "       [0.24529593, 0.2479788 , 0.24955964, 0.24786499, 0.00846752],\n",
       "       [0.25099655, 0.24776649, 0.25372662, 0.24913583, 0.01066558],\n",
       "       [0.25162996, 0.2479788 , 0.25479504, 0.25252474, 0.00496085],\n",
       "       [0.25152422, 0.24787248, 0.25607713, 0.25210113, 0.00535253],\n",
       "       [0.25162996, 0.2479788 , 0.25436767, 0.25199505, 0.00457548],\n",
       "       [0.25300216, 0.24744786, 0.25052139, 0.24775891, 0.00659947],\n",
       "       [0.24592933, 0.24606801, 0.24923929, 0.2503006 , 0.00492491],\n",
       "       [0.25173536, 0.24755418, 0.25351294, 0.24850041, 0.00174895],\n",
       "       [0.2463516 , 0.24431619, 0.25073507, 0.24680595, 0.00824222],\n",
       "       [0.24592933, 0.24564339, 0.24582037, 0.2411929 , 0.00862506],\n",
       "       [0.24107324, 0.23948638, 0.24582037, 0.24500542, 0.00781919],\n",
       "       [0.24550706, 0.24245873, 0.25052139, 0.24786499, 0.00749548],\n",
       "       [0.25363557, 0.25594028, 0.25960272, 0.25665481, 0.01133895],\n",
       "       [0.25532464, 0.25042021, 0.25693186, 0.25305409, 0.00340824],\n",
       "       [0.2544801 , 0.24904036, 0.25394031, 0.24913583, 0.01210693],\n",
       "       [0.24793494, 0.24479414, 0.25094875, 0.24606446, 0.0050991 ],\n",
       "       [0.24951861, 0.24532475, 0.24710247, 0.24839433, 0.00723872],\n",
       "       [0.25110195, 0.24734187, 0.25223085, 0.24998306, 0.00569151],\n",
       "       [0.24825181, 0.24702324, 0.25361961, 0.25083028, 0.0046391 ],\n",
       "       [0.24888521, 0.24622699, 0.25137612, 0.24617053, 0.00639392],\n",
       "       [0.24466252, 0.24527176, 0.24934596, 0.24871221, 0.0077031 ],\n",
       "       [0.25078542, 0.24681092, 0.25319225, 0.25083028, 0.00652701],\n",
       "       [0.25353017, 0.24904036, 0.25629081, 0.25273655, 0.00528742],\n",
       "       [0.25205223, 0.24861573, 0.25297856, 0.24924156, 0.005096  ],\n",
       "       [0.24877947, 0.25158808, 0.25383329, 0.25654907, 0.00896875],\n",
       "       [0.25564151, 0.2520127 , 0.25938904, 0.25781991, 0.00597881],\n",
       "       [0.26033917, 0.25981487, 0.26633389, 0.26560357, 0.00637406],\n",
       "       [0.26535369, 0.26082343, 0.26654757, 0.26491528, 0.00289392],\n",
       "       [0.26324235, 0.2598682 , 0.26798967, 0.26459774, 0.00449407],\n",
       "       [0.26472029, 0.26092975, 0.2674023 , 0.26671581, 0.00324989],\n",
       "       [0.26746504, 0.26347748, 0.27039386, 0.26613325, 0.00398514],\n",
       "       [0.26651476, 0.26326517, 0.27060754, 0.26692761, 0.00344705],\n",
       "       [0.27126546, 0.26581289, 0.26248761, 0.26205605, 0.00917889],\n",
       "       [0.25532464, 0.25158808, 0.24801053, 0.24278162, 0.00909334],\n",
       "       [0.24318458, 0.24298933, 0.23983726, 0.24362885, 0.01378769],\n",
       "       [0.24212891, 0.24288335, 0.24154672, 0.2360038 , 0.00695452],\n",
       "       [0.24445139, 0.25732047, 0.24945297, 0.26311509, 0.00906658],\n",
       "       [0.26450915, 0.26124805, 0.26644056, 0.26480954, 0.00639702],\n",
       "       [0.26303121, 0.25848801, 0.26120551, 0.25887895, 0.00842032]])"
      ]
     },
     "execution_count": 8,
     "metadata": {},
     "output_type": "execute_result"
    }
   ],
   "source": [
    "historical_data_normalised[0]"
   ]
  },
  {
   "cell_type": "code",
   "execution_count": 9,
   "metadata": {},
   "outputs": [
    {
     "data": {
      "text/plain": [
       "array([0.25400739])"
      ]
     },
     "execution_count": 9,
     "metadata": {},
     "output_type": "execute_result"
    }
   ],
   "source": [
    "next_day_close_values_normalised[0]"
   ]
  },
  {
   "cell_type": "code",
   "execution_count": 10,
   "metadata": {},
   "outputs": [
    {
     "data": {
      "text/plain": [
       "array([[143.0625],\n",
       "       [145.    ],\n",
       "       [146.9687],\n",
       "       ...,\n",
       "       [355.34  ],\n",
       "       [357.47  ],\n",
       "       [363.19  ]])"
      ]
     },
     "execution_count": 10,
     "metadata": {},
     "output_type": "execute_result"
    }
   ],
   "source": [
    "# Retriving the real next day open values\n",
    "next_day_close_values = np.array([data.iloc[:,column][i + history_points].copy() for i in range(len(data) - history_points)])\n",
    "# Expanding the dimentions of next_day_open_values_normalised (5246, 1, 1)\n",
    "unscaled_y = np.expand_dims(next_day_close_values, -1)\n",
    "unscaled_y"
   ]
  },
  {
   "cell_type": "code",
   "execution_count": 11,
   "metadata": {},
   "outputs": [
    {
     "data": {
      "text/plain": [
       "MinMaxScaler(copy=True, feature_range=(0, 1))"
      ]
     },
     "execution_count": 11,
     "metadata": {},
     "output_type": "execute_result"
    }
   ],
   "source": [
    "y_normaliser = preprocessing.MinMaxScaler()\n",
    "y_normaliser.fit(unscaled_y)"
   ]
  },
  {
   "cell_type": "code",
   "execution_count": 12,
   "metadata": {},
   "outputs": [],
   "source": [
    "assert historical_data_normalised.shape[0] == next_day_close_values_normalised.shape[0]"
   ]
  },
  {
   "cell_type": "markdown",
   "metadata": {},
   "source": [
    "**Creating final datasets**"
   ]
  },
  {
   "cell_type": "code",
   "execution_count": 13,
   "metadata": {},
   "outputs": [],
   "source": [
    "test_split = 0.9 # percent of data to be used for testing\n",
    "n = int(historical_data_normalised.shape[0] * test_split)\n",
    "\n",
    "# splitting the dataset up into train and test sets\n",
    "\n",
    "X_train = historical_data_normalised[:n]\n",
    "y_train = next_day_close_values_normalised[:n]\n",
    "\n",
    "X_test = historical_data_normalised[n:]\n",
    "y_test = next_day_close_values_normalised[n:]\n",
    "\n",
    "unscaled_y_test = unscaled_y[n:]"
   ]
  },
  {
   "cell_type": "markdown",
   "metadata": {},
   "source": [
    "## Buildling the Model"
   ]
  },
  {
   "cell_type": "code",
   "execution_count": 14,
   "metadata": {},
   "outputs": [],
   "source": [
    "import keras\n",
    "import tensorflow as tf\n",
    "from keras.models import Model\n",
    "from keras.layers import Dense, Dropout, LSTM, Input, Activation, concatenate\n",
    "from keras import optimizers\n",
    "import numpy as np\n",
    "np.random.seed(4)\n",
    "tf.random.set_seed(4)\n",
    "\n",
    "lstm_input = Input(shape=(history_points, 5), name='lstm_input')\n",
    "x = LSTM(50, name='lstm_0')(lstm_input)\n",
    "x = Dropout(0.2, name='lstm_dropout_0')(x)\n",
    "x = Dense(64, name='dense_0')(x)\n",
    "x = Activation('sigmoid', name='sigmoid_0')(x)\n",
    "x = Dense(1, name='dense_1')(x)\n",
    "output = Activation('linear', name='linear_output')(x)\n",
    "model = Model(inputs=lstm_input, outputs=output)\n",
    "\n",
    "adam = optimizers.Adam(lr=0.0005)\n",
    "\n",
    "model.compile(optimizer=adam, loss='mse')"
   ]
  },
  {
   "cell_type": "code",
   "execution_count": 15,
   "metadata": {},
   "outputs": [
    {
     "name": "stdout",
     "output_type": "stream",
     "text": [
      "Epoch 1/50\n",
      "133/133 [==============================] - 4s 30ms/step - loss: 0.0130 - val_loss: 0.0047\n",
      "Epoch 2/50\n",
      "133/133 [==============================] - 3s 24ms/step - loss: 4.8429e-04 - val_loss: 0.0032\n",
      "Epoch 3/50\n",
      "133/133 [==============================] - 3s 23ms/step - loss: 3.5446e-04 - val_loss: 0.0033\n",
      "Epoch 4/50\n",
      "133/133 [==============================] - 3s 23ms/step - loss: 3.0309e-04 - val_loss: 0.0019\n",
      "Epoch 5/50\n",
      "133/133 [==============================] - 3s 21ms/step - loss: 2.6709e-04 - val_loss: 0.0026\n",
      "Epoch 6/50\n",
      "133/133 [==============================] - 3s 26ms/step - loss: 2.4603e-04 - val_loss: 9.6086e-04\n",
      "Epoch 7/50\n",
      "133/133 [==============================] - 3s 25ms/step - loss: 2.2469e-04 - val_loss: 0.0013\n",
      "Epoch 8/50\n",
      "133/133 [==============================] - 4s 33ms/step - loss: 2.1823e-04 - val_loss: 4.2838e-04\n",
      "Epoch 9/50\n",
      "133/133 [==============================] - 3s 21ms/step - loss: 2.0033e-04 - val_loss: 5.5305e-04\n",
      "Epoch 10/50\n",
      "133/133 [==============================] - 3s 23ms/step - loss: 2.0181e-04 - val_loss: 5.4032e-04\n",
      "Epoch 11/50\n",
      "133/133 [==============================] - 3s 26ms/step - loss: 1.8772e-04 - val_loss: 7.6866e-04\n",
      "Epoch 12/50\n",
      "133/133 [==============================] - 5s 37ms/step - loss: 1.9018e-04 - val_loss: 0.0010\n",
      "Epoch 13/50\n",
      "133/133 [==============================] - 4s 32ms/step - loss: 1.8766e-04 - val_loss: 8.4925e-04\n",
      "Epoch 14/50\n",
      "133/133 [==============================] - 4s 33ms/step - loss: 1.8133e-04 - val_loss: 7.4401e-04\n",
      "Epoch 15/50\n",
      "133/133 [==============================] - 3s 21ms/step - loss: 1.7716e-04 - val_loss: 3.1543e-04\n",
      "Epoch 16/50\n",
      "133/133 [==============================] - 3s 21ms/step - loss: 1.8394e-04 - val_loss: 1.6621e-04\n",
      "Epoch 17/50\n",
      "133/133 [==============================] - 3s 21ms/step - loss: 1.6345e-04 - val_loss: 7.0890e-04\n",
      "Epoch 18/50\n",
      "133/133 [==============================] - 3s 21ms/step - loss: 1.8007e-04 - val_loss: 4.4753e-04\n",
      "Epoch 19/50\n",
      "133/133 [==============================] - 3s 22ms/step - loss: 1.7665e-04 - val_loss: 1.2836e-04\n",
      "Epoch 20/50\n",
      "133/133 [==============================] - 3s 21ms/step - loss: 1.8878e-04 - val_loss: 3.9421e-04\n",
      "Epoch 21/50\n",
      "133/133 [==============================] - 3s 21ms/step - loss: 1.6227e-04 - val_loss: 4.2431e-04\n",
      "Epoch 22/50\n",
      "133/133 [==============================] - 3s 22ms/step - loss: 1.6595e-04 - val_loss: 2.0023e-04\n",
      "Epoch 23/50\n",
      "133/133 [==============================] - 3s 22ms/step - loss: 1.7373e-04 - val_loss: 1.3928e-04\n",
      "Epoch 24/50\n",
      "133/133 [==============================] - 3s 21ms/step - loss: 1.6789e-04 - val_loss: 3.3820e-04\n",
      "Epoch 25/50\n",
      "133/133 [==============================] - 3s 21ms/step - loss: 1.5625e-04 - val_loss: 9.3435e-05\n",
      "Epoch 26/50\n",
      "133/133 [==============================] - 3s 22ms/step - loss: 1.5536e-04 - val_loss: 9.7688e-05\n",
      "Epoch 27/50\n",
      "133/133 [==============================] - 3s 22ms/step - loss: 1.5455e-04 - val_loss: 9.4402e-05\n",
      "Epoch 28/50\n",
      "133/133 [==============================] - 3s 23ms/step - loss: 1.6876e-04 - val_loss: 4.4207e-04\n",
      "Epoch 29/50\n",
      "133/133 [==============================] - 3s 22ms/step - loss: 1.6039e-04 - val_loss: 2.7929e-04\n",
      "Epoch 30/50\n",
      "133/133 [==============================] - 3s 25ms/step - loss: 1.4188e-04 - val_loss: 1.1569e-04\n",
      "Epoch 31/50\n",
      "133/133 [==============================] - 4s 33ms/step - loss: 1.4258e-04 - val_loss: 1.9176e-04\n",
      "Epoch 32/50\n",
      "133/133 [==============================] - 3s 22ms/step - loss: 1.4749e-04 - val_loss: 8.5897e-05\n",
      "Epoch 33/50\n",
      "133/133 [==============================] - 3s 22ms/step - loss: 1.4769e-04 - val_loss: 6.1855e-04\n",
      "Epoch 34/50\n",
      "133/133 [==============================] - 3s 23ms/step - loss: 1.5590e-04 - val_loss: 5.9506e-04\n",
      "Epoch 35/50\n",
      "133/133 [==============================] - 3s 22ms/step - loss: 1.5339e-04 - val_loss: 2.8257e-04\n",
      "Epoch 36/50\n",
      "133/133 [==============================] - 3s 21ms/step - loss: 1.5401e-04 - val_loss: 1.4662e-04\n",
      "Epoch 37/50\n",
      "133/133 [==============================] - 3s 22ms/step - loss: 1.5024e-04 - val_loss: 5.0853e-04\n",
      "Epoch 38/50\n",
      "133/133 [==============================] - 3s 21ms/step - loss: 1.5434e-04 - val_loss: 1.1524e-04\n",
      "Epoch 39/50\n",
      "133/133 [==============================] - 3s 22ms/step - loss: 1.5136e-04 - val_loss: 2.7817e-04\n",
      "Epoch 40/50\n",
      "133/133 [==============================] - 3s 21ms/step - loss: 1.3816e-04 - val_loss: 2.8799e-04\n",
      "Epoch 41/50\n",
      "133/133 [==============================] - 3s 22ms/step - loss: 1.4760e-04 - val_loss: 7.0211e-05\n",
      "Epoch 42/50\n",
      "133/133 [==============================] - 3s 26ms/step - loss: 1.4716e-04 - val_loss: 2.7457e-04\n",
      "Epoch 43/50\n",
      "133/133 [==============================] - 3s 20ms/step - loss: 1.4029e-04 - val_loss: 6.7884e-05\n",
      "Epoch 44/50\n",
      "133/133 [==============================] - 3s 21ms/step - loss: 1.6076e-04 - val_loss: 8.2145e-05\n",
      "Epoch 45/50\n",
      "133/133 [==============================] - 3s 21ms/step - loss: 1.4595e-04 - val_loss: 4.9743e-04\n",
      "Epoch 46/50\n",
      "133/133 [==============================] - 3s 21ms/step - loss: 1.5353e-04 - val_loss: 7.9168e-04\n",
      "Epoch 47/50\n",
      "133/133 [==============================] - 3s 21ms/step - loss: 1.4536e-04 - val_loss: 2.2091e-04\n",
      "Epoch 48/50\n",
      "133/133 [==============================] - 3s 22ms/step - loss: 1.3887e-04 - val_loss: 4.9534e-04\n",
      "Epoch 49/50\n",
      "133/133 [==============================] - 3s 21ms/step - loss: 1.3378e-04 - val_loss: 1.2012e-04\n",
      "Epoch 50/50\n",
      "133/133 [==============================] - 3s 21ms/step - loss: 1.3840e-04 - val_loss: 2.4948e-04\n",
      "17/17 [==============================] - 0s 5ms/step - loss: 0.0012\n",
      "Test Loss:0.001162227476015687\n"
     ]
    }
   ],
   "source": [
    "model.fit(X_train, y_train, batch_size=32, epochs=50, shuffle=True, validation_split=0.1)\n",
    "evaluation = model.evaluate(X_test, y_test)\n",
    "print(f\"Test Loss:{evaluation}\")"
   ]
  },
  {
   "cell_type": "markdown",
   "metadata": {},
   "source": [
    "**MSE of the normalized dataset**"
   ]
  },
  {
   "cell_type": "code",
   "execution_count": 16,
   "metadata": {},
   "outputs": [
    {
     "name": "stdout",
     "output_type": "stream",
     "text": [
      "Scaled MSE: 72.16035371137998\n"
     ]
    }
   ],
   "source": [
    "y_test_predicted = model.predict(X_test)\n",
    "# # # model.predict returns normalised values\n",
    "# # # now we scale them back up using the y_scaler from before\n",
    "y_test_predicted = y_normaliser.inverse_transform(y_test_predicted)\n",
    "\n",
    "# # # also getting predictions for the entire dataset, just to see how it performs\n",
    "y_train_predicted = model.predict(X_train)\n",
    "y_train_predicted = y_normaliser.inverse_transform(y_train_predicted)\n",
    "\n",
    "# assert unscaled_y_test.shape == y_test_predicted.shape\n",
    "real_mse = np.mean(np.square(unscaled_y_test - y_test_predicted))\n",
    "scaled_mse = real_mse / (np.max(unscaled_y_test) - np.min(unscaled_y_test)) * 100\n",
    "print(f\"Scaled MSE: {scaled_mse}\")"
   ]
  },
  {
   "cell_type": "code",
   "execution_count": 21,
   "metadata": {},
   "outputs": [
    {
     "data": {
      "image/png": "[encoded data removed]",
      "text/plain": [
       "<Figure size 1584x1080 with 1 Axes>"
      ]
     },
     "metadata": {
      "needs_background": "light"
     },
     "output_type": "display_data"
    }
   ],
   "source": [
    "import matplotlib.pyplot as plt\n",
    "plt.gcf().set_size_inches(22, 15, forward=True)\n",
    "\n",
    "start = 0\n",
    "end = -1\n",
    "\n",
    "real = plt.plot(unscaled_y_test[start:end], label='real')\n",
    "pred = plt.plot(y_test_predicted[start:end], label='predicted')\n",
    "\n",
    "plt.title(\"Predicted vs. Actual SPY Closing Prices\")\n",
    "plt.legend(['Real', 'Predicted'])\n",
    "\n",
    "\n",
    "plt.savefig(\"results.png\")"
   ]
  },
  {
   "cell_type": "code",
   "execution_count": 20,
   "metadata": {},
   "outputs": [
    {
     "data": {
      "text/plain": [
       "<Figure size 432x288 with 0 Axes>"
      ]
     },
     "metadata": {},
     "output_type": "display_data"
    }
   ],
   "source": []
  },
  {
   "cell_type": "markdown",
   "metadata": {},
   "source": [
    "## Making predictions"
   ]
  },
  {
   "cell_type": "code",
   "execution_count": 224,
   "metadata": {},
   "outputs": [
    {
     "data": {
      "text/html": [
       "<div>\n",
       "<style scoped>\n",
       "    .dataframe tbody tr th:only-of-type {\n",
       "        vertical-align: middle;\n",
       "    }\n",
       "\n",
       "    .dataframe tbody tr th {\n",
       "        vertical-align: top;\n",
       "    }\n",
       "\n",
       "    .dataframe thead th {\n",
       "        text-align: right;\n",
       "    }\n",
       "</style>\n",
       "<table border=\"1\" class=\"dataframe\">\n",
       "  <thead>\n",
       "    <tr style=\"text-align: right;\">\n",
       "      <th></th>\n",
       "      <th>open</th>\n",
       "      <th>high</th>\n",
       "      <th>low</th>\n",
       "      <th>close</th>\n",
       "      <th>volume</th>\n",
       "    </tr>\n",
       "  </thead>\n",
       "  <tbody>\n",
       "    <tr>\n",
       "      <th>5294</th>\n",
       "      <td>355.27</td>\n",
       "      <td>358.90</td>\n",
       "      <td>354.71</td>\n",
       "      <td>358.10</td>\n",
       "      <td>62959429.0</td>\n",
       "    </tr>\n",
       "    <tr>\n",
       "      <th>5295</th>\n",
       "      <td>360.98</td>\n",
       "      <td>362.78</td>\n",
       "      <td>359.59</td>\n",
       "      <td>362.57</td>\n",
       "      <td>72203007.0</td>\n",
       "    </tr>\n",
       "  </tbody>\n",
       "</table>\n",
       "</div>"
      ],
      "text/plain": [
       "        open    high     low   close      volume\n",
       "5294  355.27  358.90  354.71  358.10  62959429.0\n",
       "5295  360.98  362.78  359.59  362.57  72203007.0"
      ]
     },
     "execution_count": 224,
     "metadata": {},
     "output_type": "execute_result"
    }
   ],
   "source": [
    "data[-2:]"
   ]
  },
  {
   "cell_type": "code",
   "execution_count": 225,
   "metadata": {},
   "outputs": [
    {
     "data": {
      "text/plain": [
       "array([[338.1678]], dtype=float32)"
      ]
     },
     "execution_count": 225,
     "metadata": {},
     "output_type": "execute_result"
    }
   ],
   "source": [
    "# Predicting today\n",
    "d=data[-51:-1]\n",
    "normalized_data=MinMaxScaler.fit_transform(d)\n",
    "today=model.predict(np.expand_dims(normalized_data, 0))\n",
    "today=y_normaliser.inverse_transform(today)\n",
    "today"
   ]
  },
  {
   "cell_type": "code",
   "execution_count": 226,
   "metadata": {},
   "outputs": [
    {
     "data": {
      "text/plain": [
       "array([[333.0207]], dtype=float32)"
      ]
     },
     "execution_count": 226,
     "metadata": {},
     "output_type": "execute_result"
    }
   ],
   "source": [
    "# Predicting tomorrow\n",
    "d=data[-50:]\n",
    "normalized_data=MinMaxScaler.fit_transform(data)\n",
    "tomorrow=model.predict(np.expand_dims(normalized_data, 0))\n",
    "tomorrow=y_normaliser.inverse_transform(tomorrow)\n",
    "tomorrow"
   ]
  },
  {
   "cell_type": "code",
   "execution_count": 227,
   "metadata": {},
   "outputs": [],
   "source": [
    "# model.save(\"predict_next_day_open.h5\")"
   ]
  }
 ],
 "metadata": {
  "kernelspec": {
   "display_name": "Python 3",
   "language": "python",
   "name": "python3"
  },
  "language_info": {
   "codemirror_mode": {
    "name": "ipython",
    "version": 3
   },
   "file_extension": ".py",
   "mimetype": "text/x-python",
   "name": "python",
   "nbconvert_exporter": "python",
   "pygments_lexer": "ipython3",
   "version": "3.7.6"
  }
 },
 "nbformat": 4,
 "nbformat_minor": 4
}
