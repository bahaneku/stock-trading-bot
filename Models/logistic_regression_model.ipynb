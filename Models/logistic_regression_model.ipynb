{
 "cells": [
  {
   "cell_type": "markdown",
   "metadata": {},
   "source": [
    "## Logistic Regression"
   ]
  },
  {
   "cell_type": "code",
   "execution_count": 9,
   "metadata": {},
   "outputs": [],
   "source": [
    "%matplotlib inline\n",
    "import matplotlib.pyplot as plt\n",
    "import numpy as np\n",
    "import pandas as pd\n",
    "\n",
    "from sklearn.model_selection import train_test_split\n",
    "from sklearn.linear_model import LinearRegression"
   ]
  },
  {
   "cell_type": "code",
   "execution_count": 10,
   "metadata": {},
   "outputs": [
    {
     "data": {
      "text/html": [
       "<div>\n",
       "<style scoped>\n",
       "    .dataframe tbody tr th:only-of-type {\n",
       "        vertical-align: middle;\n",
       "    }\n",
       "\n",
       "    .dataframe tbody tr th {\n",
       "        vertical-align: top;\n",
       "    }\n",
       "\n",
       "    .dataframe thead th {\n",
       "        text-align: right;\n",
       "    }\n",
       "</style>\n",
       "<table border=\"1\" class=\"dataframe\">\n",
       "  <thead>\n",
       "    <tr style=\"text-align: right;\">\n",
       "      <th></th>\n",
       "      <th>Date</th>\n",
       "      <th>open</th>\n",
       "      <th>high</th>\n",
       "      <th>low</th>\n",
       "      <th>close</th>\n",
       "      <th>volume</th>\n",
       "      <th>dividends</th>\n",
       "      <th>stock_splits</th>\n",
       "      <th>price_change_$</th>\n",
       "      <th>price_change_%</th>\n",
       "      <th>price_swing</th>\n",
       "      <th>volume_change</th>\n",
       "      <th>volume_change_%</th>\n",
       "      <th>price_change_binary</th>\n",
       "    </tr>\n",
       "  </thead>\n",
       "  <tbody>\n",
       "    <tr>\n",
       "      <th>0</th>\n",
       "      <td>1993-02-01</td>\n",
       "      <td>26.098205</td>\n",
       "      <td>26.265144</td>\n",
       "      <td>26.098205</td>\n",
       "      <td>26.265144</td>\n",
       "      <td>480500</td>\n",
       "      <td>0.0</td>\n",
       "      <td>0</td>\n",
       "      <td>0.185486</td>\n",
       "      <td>0.711228</td>\n",
       "      <td>0.166939</td>\n",
       "      <td>-522700.0</td>\n",
       "      <td>-52.103270</td>\n",
       "      <td>1.0</td>\n",
       "    </tr>\n",
       "    <tr>\n",
       "      <th>1</th>\n",
       "      <td>1993-02-02</td>\n",
       "      <td>26.246586</td>\n",
       "      <td>26.339331</td>\n",
       "      <td>26.190940</td>\n",
       "      <td>26.320782</td>\n",
       "      <td>201300</td>\n",
       "      <td>0.0</td>\n",
       "      <td>0</td>\n",
       "      <td>0.055637</td>\n",
       "      <td>0.211830</td>\n",
       "      <td>0.148391</td>\n",
       "      <td>-279200.0</td>\n",
       "      <td>-58.106139</td>\n",
       "      <td>1.0</td>\n",
       "    </tr>\n",
       "    <tr>\n",
       "      <th>2</th>\n",
       "      <td>1993-02-03</td>\n",
       "      <td>26.357880</td>\n",
       "      <td>26.617563</td>\n",
       "      <td>26.339331</td>\n",
       "      <td>26.599014</td>\n",
       "      <td>529400</td>\n",
       "      <td>0.0</td>\n",
       "      <td>0</td>\n",
       "      <td>0.278233</td>\n",
       "      <td>1.057083</td>\n",
       "      <td>0.278232</td>\n",
       "      <td>328100.0</td>\n",
       "      <td>162.990561</td>\n",
       "      <td>1.0</td>\n",
       "    </tr>\n",
       "    <tr>\n",
       "      <th>3</th>\n",
       "      <td>1993-02-04</td>\n",
       "      <td>26.691763</td>\n",
       "      <td>26.765958</td>\n",
       "      <td>26.394982</td>\n",
       "      <td>26.710312</td>\n",
       "      <td>531500</td>\n",
       "      <td>0.0</td>\n",
       "      <td>0</td>\n",
       "      <td>0.111298</td>\n",
       "      <td>0.418428</td>\n",
       "      <td>0.370977</td>\n",
       "      <td>2100.0</td>\n",
       "      <td>0.396675</td>\n",
       "      <td>1.0</td>\n",
       "    </tr>\n",
       "    <tr>\n",
       "      <th>4</th>\n",
       "      <td>1993-02-05</td>\n",
       "      <td>26.691771</td>\n",
       "      <td>26.747417</td>\n",
       "      <td>26.543380</td>\n",
       "      <td>26.691771</td>\n",
       "      <td>492100</td>\n",
       "      <td>0.0</td>\n",
       "      <td>0</td>\n",
       "      <td>-0.018541</td>\n",
       "      <td>-0.069416</td>\n",
       "      <td>0.204037</td>\n",
       "      <td>-39400.0</td>\n",
       "      <td>-7.412982</td>\n",
       "      <td>0.0</td>\n",
       "    </tr>\n",
       "  </tbody>\n",
       "</table>\n",
       "</div>"
      ],
      "text/plain": [
       "         Date       open       high        low      close  volume  dividends  \\\n",
       "0  1993-02-01  26.098205  26.265144  26.098205  26.265144  480500        0.0   \n",
       "1  1993-02-02  26.246586  26.339331  26.190940  26.320782  201300        0.0   \n",
       "2  1993-02-03  26.357880  26.617563  26.339331  26.599014  529400        0.0   \n",
       "3  1993-02-04  26.691763  26.765958  26.394982  26.710312  531500        0.0   \n",
       "4  1993-02-05  26.691771  26.747417  26.543380  26.691771  492100        0.0   \n",
       "\n",
       "   stock_splits  price_change_$  price_change_%  price_swing  volume_change  \\\n",
       "0             0        0.185486        0.711228     0.166939      -522700.0   \n",
       "1             0        0.055637        0.211830     0.148391      -279200.0   \n",
       "2             0        0.278233        1.057083     0.278232       328100.0   \n",
       "3             0        0.111298        0.418428     0.370977         2100.0   \n",
       "4             0       -0.018541       -0.069416     0.204037       -39400.0   \n",
       "\n",
       "   volume_change_%  price_change_binary  \n",
       "0       -52.103270                  1.0  \n",
       "1       -58.106139                  1.0  \n",
       "2       162.990561                  1.0  \n",
       "3         0.396675                  1.0  \n",
       "4        -7.412982                  0.0  "
      ]
     },
     "execution_count": 10,
     "metadata": {},
     "output_type": "execute_result"
    }
   ],
   "source": [
    "df=pd.read_csv(\"../Data/stock_data.csv\")\n",
    "df.head()"
   ]
  },
  {
   "cell_type": "code",
   "execution_count": 11,
   "metadata": {},
   "outputs": [],
   "source": [
    "X=df[[\"close\",\"volume\"]]\n",
    "y=df[[\"price_change_binary\"]]"
   ]
  },
  {
   "cell_type": "code",
   "execution_count": 12,
   "metadata": {},
   "outputs": [],
   "source": [
    "X_train, X_test, y_train, y_test = train_test_split(X, y, random_state=42)"
   ]
  },
  {
   "cell_type": "code",
   "execution_count": 13,
   "metadata": {},
   "outputs": [],
   "source": [
    "# Create the model\n",
    "model = LinearRegression()\n",
    "# Fit the model\n",
    "model.fit(X_train, y_train)"
   ]
  },
  {
   "cell_type": "code",
   "execution_count": 14,
   "metadata": {},
   "outputs": [
    {
     "name": "stdout",
     "output_type": "stream",
     "text": [
      "Training Score: 0.003078328453432144\n",
      "Testing Score: 0.005528945289835718\n"
     ]
    }
   ],
   "source": [
    "# Score the model\n",
    "training_score = model.score(X_train, y_train)\n",
    "testing_score = model.score(X_test, y_test)\n",
    "\n",
    "print(f\"Training Score: {training_score}\")\n",
    "print(f\"Testing Score: {testing_score}\")"
   ]
  },
  {
   "cell_type": "code",
   "execution_count": 15,
   "metadata": {},
   "outputs": [
    {
     "data": {
      "text/plain": [
       "Text(0.5, 1.0, 'Residual Plot')"
      ]
     },
     "execution_count": 15,
     "metadata": {},
     "output_type": "execute_result"
    },
    {
     "data": {
      "image/png": "[encoded data removed]",
      "text/plain": [
       "<Figure size 432x288 with 1 Axes>"
      ]
     },
     "metadata": {
      "needs_background": "light"
     },
     "output_type": "display_data"
    }
   ],
   "source": [
    "plt.scatter(model.predict(X_train), model.predict(X_train) - y_train, c=\"blue\", label=\"Training Data\")\n",
    "plt.scatter(model.predict(X_test), model.predict(X_test) - y_test, c=\"orange\", label=\"Testing Data\")\n",
    "plt.legend()\n",
    "plt.hlines(y=0, xmin=y.min(), xmax=y.max())\n",
    "plt.title(\"Residual Plot\")"
   ]
  }
 ],
 "metadata": {
  "kernelspec": {
   "display_name": "Python 3",
   "language": "python",
   "name": "python3"
  },
  "language_info": {
   "codemirror_mode": {
    "name": "ipython",
    "version": 3
   },
   "file_extension": ".py",
   "mimetype": "text/x-python",
   "name": "python",
   "nbconvert_exporter": "python",
   "pygments_lexer": "ipython3",
   "version": "3.7.6"
  }
 },
 "nbformat": 4,
 "nbformat_minor": 4
}
