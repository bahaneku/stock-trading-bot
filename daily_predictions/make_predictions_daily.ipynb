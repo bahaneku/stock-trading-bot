{
 "cells": [
  {
   "cell_type": "code",
   "execution_count": 19,
   "metadata": {},
   "outputs": [],
   "source": [
    "import pandas as pd\n",
    "import numpy as np\n",
    "from sklearn import preprocessing\n",
    "from keras.models import load_model"
   ]
  },
  {
   "cell_type": "code",
   "execution_count": 20,
   "metadata": {},
   "outputs": [],
   "source": [
    "# Loading different models\n",
    "close_model=load_model('built_models/predict_next_day_close.h5')\n",
    "open_model=load_model('built_models/predict_next_day_open.h5')\n",
    "high_model=load_model('built_models/predict_next_day_high.h5')\n",
    "low_model=load_model('built_models/predict_next_day_low.h5')\n",
    "volume_model=load_model('built_models/predict_next_day_volume.h5')"
   ]
  },
  {
   "cell_type": "markdown",
   "metadata": {},
   "source": [
    "### Normalizing historical data"
   ]
  },
  {
   "cell_type": "code",
   "execution_count": 21,
   "metadata": {},
   "outputs": [],
   "source": [
    "data=pd.read_csv(\"../SPY_daily.csv\")\n",
    "data.rename(columns={\"1. open\":\"open\",\"2. high\":\"high\",\"3. low\":\"low\",\"4. close\":\"close\",\"5. volume\":\"volume\"}, inplace=True)"
   ]
  },
  {
   "cell_type": "code",
   "execution_count": 22,
   "metadata": {},
   "outputs": [
    {
     "data": {
      "text/html": [
       "<div>\n",
       "<style scoped>\n",
       "    .dataframe tbody tr th:only-of-type {\n",
       "        vertical-align: middle;\n",
       "    }\n",
       "\n",
       "    .dataframe tbody tr th {\n",
       "        vertical-align: top;\n",
       "    }\n",
       "\n",
       "    .dataframe thead th {\n",
       "        text-align: right;\n",
       "    }\n",
       "</style>\n",
       "<table border=\"1\" class=\"dataframe\">\n",
       "  <thead>\n",
       "    <tr style=\"text-align: right;\">\n",
       "      <th></th>\n",
       "      <th>date</th>\n",
       "      <th>open</th>\n",
       "      <th>high</th>\n",
       "      <th>low</th>\n",
       "      <th>close</th>\n",
       "      <th>volume</th>\n",
       "    </tr>\n",
       "  </thead>\n",
       "  <tbody>\n",
       "    <tr>\n",
       "      <th>5291</th>\n",
       "      <td>2020-11-10</td>\n",
       "      <td>353.49</td>\n",
       "      <td>355.1800</td>\n",
       "      <td>350.51</td>\n",
       "      <td>354.04</td>\n",
       "      <td>85552022.0</td>\n",
       "    </tr>\n",
       "    <tr>\n",
       "      <th>5292</th>\n",
       "      <td>2020-11-11</td>\n",
       "      <td>356.40</td>\n",
       "      <td>357.5600</td>\n",
       "      <td>355.06</td>\n",
       "      <td>356.67</td>\n",
       "      <td>58649048.0</td>\n",
       "    </tr>\n",
       "    <tr>\n",
       "      <th>5293</th>\n",
       "      <td>2020-11-12</td>\n",
       "      <td>355.58</td>\n",
       "      <td>356.7182</td>\n",
       "      <td>351.26</td>\n",
       "      <td>353.21</td>\n",
       "      <td>68118563.0</td>\n",
       "    </tr>\n",
       "    <tr>\n",
       "      <th>5294</th>\n",
       "      <td>2020-11-13</td>\n",
       "      <td>355.27</td>\n",
       "      <td>358.9000</td>\n",
       "      <td>354.71</td>\n",
       "      <td>358.10</td>\n",
       "      <td>62959429.0</td>\n",
       "    </tr>\n",
       "    <tr>\n",
       "      <th>5295</th>\n",
       "      <td>2020-11-16</td>\n",
       "      <td>360.98</td>\n",
       "      <td>362.7800</td>\n",
       "      <td>359.59</td>\n",
       "      <td>362.57</td>\n",
       "      <td>72203007.0</td>\n",
       "    </tr>\n",
       "  </tbody>\n",
       "</table>\n",
       "</div>"
      ],
      "text/plain": [
       "            date    open      high     low   close      volume\n",
       "5291  2020-11-10  353.49  355.1800  350.51  354.04  85552022.0\n",
       "5292  2020-11-11  356.40  357.5600  355.06  356.67  58649048.0\n",
       "5293  2020-11-12  355.58  356.7182  351.26  353.21  68118563.0\n",
       "5294  2020-11-13  355.27  358.9000  354.71  358.10  62959429.0\n",
       "5295  2020-11-16  360.98  362.7800  359.59  362.57  72203007.0"
      ]
     },
     "execution_count": 22,
     "metadata": {},
     "output_type": "execute_result"
    }
   ],
   "source": [
    "# Flipping the dataset\n",
    "data = data[::-1].reset_index(drop=True)\n",
    "data.tail()"
   ]
  },
  {
   "cell_type": "code",
   "execution_count": 23,
   "metadata": {},
   "outputs": [
    {
     "data": {
      "text/html": [
       "<div>\n",
       "<style scoped>\n",
       "    .dataframe tbody tr th:only-of-type {\n",
       "        vertical-align: middle;\n",
       "    }\n",
       "\n",
       "    .dataframe tbody tr th {\n",
       "        vertical-align: top;\n",
       "    }\n",
       "\n",
       "    .dataframe thead th {\n",
       "        text-align: right;\n",
       "    }\n",
       "</style>\n",
       "<table border=\"1\" class=\"dataframe\">\n",
       "  <thead>\n",
       "    <tr style=\"text-align: right;\">\n",
       "      <th></th>\n",
       "      <th>open</th>\n",
       "      <th>high</th>\n",
       "      <th>low</th>\n",
       "      <th>close</th>\n",
       "      <th>volume</th>\n",
       "    </tr>\n",
       "  </thead>\n",
       "  <tbody>\n",
       "    <tr>\n",
       "      <th>5291</th>\n",
       "      <td>353.49</td>\n",
       "      <td>355.1800</td>\n",
       "      <td>350.51</td>\n",
       "      <td>354.04</td>\n",
       "      <td>85552022.0</td>\n",
       "    </tr>\n",
       "    <tr>\n",
       "      <th>5292</th>\n",
       "      <td>356.40</td>\n",
       "      <td>357.5600</td>\n",
       "      <td>355.06</td>\n",
       "      <td>356.67</td>\n",
       "      <td>58649048.0</td>\n",
       "    </tr>\n",
       "    <tr>\n",
       "      <th>5293</th>\n",
       "      <td>355.58</td>\n",
       "      <td>356.7182</td>\n",
       "      <td>351.26</td>\n",
       "      <td>353.21</td>\n",
       "      <td>68118563.0</td>\n",
       "    </tr>\n",
       "    <tr>\n",
       "      <th>5294</th>\n",
       "      <td>355.27</td>\n",
       "      <td>358.9000</td>\n",
       "      <td>354.71</td>\n",
       "      <td>358.10</td>\n",
       "      <td>62959429.0</td>\n",
       "    </tr>\n",
       "    <tr>\n",
       "      <th>5295</th>\n",
       "      <td>360.98</td>\n",
       "      <td>362.7800</td>\n",
       "      <td>359.59</td>\n",
       "      <td>362.57</td>\n",
       "      <td>72203007.0</td>\n",
       "    </tr>\n",
       "  </tbody>\n",
       "</table>\n",
       "</div>"
      ],
      "text/plain": [
       "        open      high     low   close      volume\n",
       "5291  353.49  355.1800  350.51  354.04  85552022.0\n",
       "5292  356.40  357.5600  355.06  356.67  58649048.0\n",
       "5293  355.58  356.7182  351.26  353.21  68118563.0\n",
       "5294  355.27  358.9000  354.71  358.10  62959429.0\n",
       "5295  360.98  362.7800  359.59  362.57  72203007.0"
      ]
     },
     "execution_count": 23,
     "metadata": {},
     "output_type": "execute_result"
    }
   ],
   "source": [
    "data=data.drop(\"date\", axis=1)\n",
    "data.tail()"
   ]
  },
  {
   "cell_type": "code",
   "execution_count": 24,
   "metadata": {},
   "outputs": [],
   "source": [
    "# Number of datapoints to use in predictions\n",
    "history_points=50\n",
    "# Scaling data\n",
    "MinMaxScaler = preprocessing.MinMaxScaler()"
   ]
  },
  {
   "cell_type": "markdown",
   "metadata": {},
   "source": [
    "### Creating y_scaler for each variable"
   ]
  },
  {
   "cell_type": "code",
   "execution_count": 25,
   "metadata": {},
   "outputs": [],
   "source": [
    "# Retriving the real next day open values\n",
    "next_day_close_values = np.array([data.iloc[:,3][i + history_points].copy() for i in range(len(data) - history_points)])\n",
    "next_day_open_values = np.array([data.iloc[:,0][i + history_points].copy() for i in range(len(data) - history_points)])\n",
    "next_day_high_values = np.array([data.iloc[:,1][i + history_points].copy() for i in range(len(data) - history_points)])\n",
    "next_day_low_values = np.array([data.iloc[:,2][i + history_points].copy() for i in range(len(data) - history_points)])\n",
    "next_day_volume_values = np.array([data.iloc[:,4][i + history_points].copy() for i in range(len(data) - history_points)])\n",
    "# Expanding the dimentions of next_day_open_values_normalised (5246, 1, 1)\n",
    "unscaled_close_y = np.expand_dims(next_day_close_values, -1)\n",
    "unscaled_open_y = np.expand_dims(next_day_open_values, -1)\n",
    "unscaled_high_y = np.expand_dims(next_day_high_values, -1)\n",
    "unscaled_low_y = np.expand_dims(next_day_low_values, -1)\n",
    "unscaled_volume_y = np.expand_dims(next_day_volume_values, -1)"
   ]
  },
  {
   "cell_type": "code",
   "execution_count": 26,
   "metadata": {},
   "outputs": [],
   "source": [
    "y_normaliser = preprocessing.MinMaxScaler()\n",
    "y_normaliser_close=y_normaliser.fit(unscaled_close_y)\n",
    "y_normaliser = preprocessing.MinMaxScaler()\n",
    "y_normaliser_open=y_normaliser.fit(unscaled_open_y)\n",
    "y_normaliser = preprocessing.MinMaxScaler()\n",
    "y_normaliser_high=y_normaliser.fit(unscaled_high_y)\n",
    "y_normaliser = preprocessing.MinMaxScaler()\n",
    "y_normaliser_low=y_normaliser.fit(unscaled_low_y)\n",
    "y_normaliser = preprocessing.MinMaxScaler()\n",
    "y_normaliser_volume=y_normaliser.fit(unscaled_volume_y)"
   ]
  },
  {
   "cell_type": "markdown",
   "metadata": {},
   "source": [
    "### Making predictions"
   ]
  },
  {
   "cell_type": "code",
   "execution_count": 27,
   "metadata": {},
   "outputs": [],
   "source": [
    "# Predict close value\n",
    "def make_prediction(data, model, y_norm):\n",
    "    # Normalize the input data\n",
    "    normalized_data=MinMaxScaler.fit_transform(data[-50:])\n",
    "    # Predict next day's close\n",
    "    today=model.predict(np.expand_dims(normalized_data, 0))\n",
    "    # Convert the close to real terms\n",
    "    last=y_norm.inverse_transform(today)\n",
    "    return float(last[0][0])"
   ]
  },
  {
   "cell_type": "code",
   "execution_count": 28,
   "metadata": {},
   "outputs": [],
   "source": [
    "def predict_actual_values(data, variable_to_predict, model, y_normaliser):    \n",
    "    # make prediction\n",
    "    prediction=make_prediction(data[-50:], model, y_normaliser)\n",
    "    # converting to actual stock market price\n",
    "    last_prediction=make_prediction(data[-51:-1], model, y_normaliser)\n",
    "    # calculating percent change of from last predicted value\n",
    "    prediction_percent_change=((prediction-last_prediction)/last_prediction)\n",
    "    # getting last actual value\n",
    "    last_actual = data[-3:].iloc[2][variable_to_predict]\n",
    "    # calculating predicted percent change on actual value\n",
    "    predicted_actual_close=last_actual+(last_actual*prediction_percent_change)\n",
    "    return float(predicted_actual_close), last_prediction, prediction_percent_change, last_actual"
   ]
  },
  {
   "cell_type": "markdown",
   "metadata": {},
   "source": [
    "### Buy, sell or hold"
   ]
  },
  {
   "cell_type": "code",
   "execution_count": 29,
   "metadata": {},
   "outputs": [
    {
     "name": "stdout",
     "output_type": "stream",
     "text": [
      "Last Predicted Close: 337.7259521484375\n",
      "Next Predicted Close: 332.8974304199219\n",
      "Last Actual Close: 362.57\n",
      "Predicted Actual Close: 357.3862789623628\n"
     ]
    }
   ],
   "source": [
    "predicted_close = make_prediction(data, close_model, y_normaliser_close)\n",
    "predicted_actual, last_prediction, percent_change, last_actual = predict_actual_values(data, \"close\", close_model, y_normaliser_close)\n",
    "print(f\"Last Predicted Close: {last_prediction}\")\n",
    "print(f\"Next Predicted Close: {predicted_close}\")\n",
    "print(f\"Last Actual Close: {last_actual}\")\n",
    "print(f\"Predicted Actual Close: {predicted_actual}\")"
   ]
  },
  {
   "cell_type": "markdown",
   "metadata": {},
   "source": [
    "#### Trade based off *price* predicted"
   ]
  },
  {
   "cell_type": "code",
   "execution_count": 30,
   "metadata": {},
   "outputs": [
    {
     "name": "stdout",
     "output_type": "stream",
     "text": [
      "Predicted Price Change: -4.828521728515625\n",
      "hold\n"
     ]
    }
   ],
   "source": [
    "buys=[]\n",
    "sells=[]\n",
    "\n",
    "thresh = 5.00\n",
    "diff = predicted_close - last_prediction\n",
    "print(f\"Predicted Price Change: {diff}\")\n",
    "\n",
    "if diff > thresh:\n",
    "    print(\"buy\")\n",
    "elif diff < -thresh:\n",
    "    print(\"sell\")\n",
    "else:\n",
    "    print(\"hold\")"
   ]
  },
  {
   "cell_type": "markdown",
   "metadata": {},
   "source": [
    "#### Trade based off *percent change* predicted"
   ]
  },
  {
   "cell_type": "code",
   "execution_count": 31,
   "metadata": {},
   "outputs": [
    {
     "name": "stdout",
     "output_type": "stream",
     "text": [
      "Predicted Percent Change: -1.429715927307058\n",
      "sell\n"
     ]
    }
   ],
   "source": [
    "thresh = .5\n",
    "change=percent_change*100\n",
    "print(f\"Predicted Percent Change: {change}\")\n",
    "\n",
    "if change > thresh:\n",
    "    print(\"buy\")\n",
    "elif change < -thresh:\n",
    "    print(\"sell\")\n",
    "else:\n",
    "    print(\"hold\")"
   ]
  },
  {
   "cell_type": "code",
   "execution_count": 14,
   "metadata": {},
   "outputs": [],
   "source": [
    "# days_to_predict = 10\n",
    "\n",
    "# for i in range(days_to_predict):\n",
    "#     new_row=pd.DataFrame({\n",
    "#         \"open\":predict_actual_values(data[-50:], \"open\", open_model, y_normaliser_open),\n",
    "#         \"high\":predict_actual_values(data[-50:], \"high\", high_model, y_normaliser_high),\n",
    "#         \"low\":predict_actual_values(data[-50:], \"low\", low_model, y_normaliser_low),\n",
    "#         \"close\":predict_actual_values(data[-50:], \"close\", close_model, y_normaliser_close),\n",
    "#         \"volume\":predict_actual_values(data[-50:], \"volume\", volume_model, y_normaliser_volume)\n",
    "#     }, index=[max(data.index)+1])\n",
    "#     data=data.append(new_row)"
   ]
  }
 ],
 "metadata": {
  "kernelspec": {
   "display_name": "Python 3",
   "language": "python",
   "name": "python3"
  },
  "language_info": {
   "codemirror_mode": {
    "name": "ipython",
    "version": 3
   },
   "file_extension": ".py",
   "mimetype": "text/x-python",
   "name": "python",
   "nbconvert_exporter": "python",
   "pygments_lexer": "ipython3",
   "version": "3.7.6"
  }
 },
 "nbformat": 4,
 "nbformat_minor": 4
}
