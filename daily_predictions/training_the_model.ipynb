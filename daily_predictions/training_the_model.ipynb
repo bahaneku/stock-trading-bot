{
 "cells": [
  {
   "cell_type": "code",
   "execution_count": 267,
   "metadata": {},
   "outputs": [],
   "source": [
    "import pandas as pd\n",
    "import numpy as np\n",
    "from sklearn import preprocessing"
   ]
  },
  {
   "cell_type": "markdown",
   "metadata": {},
   "source": [
    "## Data Wrangling"
   ]
  },
  {
   "cell_type": "code",
   "execution_count": 268,
   "metadata": {},
   "outputs": [
    {
     "data": {
      "text/html": [
       "<div>\n",
       "<style scoped>\n",
       "    .dataframe tbody tr th:only-of-type {\n",
       "        vertical-align: middle;\n",
       "    }\n",
       "\n",
       "    .dataframe tbody tr th {\n",
       "        vertical-align: top;\n",
       "    }\n",
       "\n",
       "    .dataframe thead th {\n",
       "        text-align: right;\n",
       "    }\n",
       "</style>\n",
       "<table border=\"1\" class=\"dataframe\">\n",
       "  <thead>\n",
       "    <tr style=\"text-align: right;\">\n",
       "      <th></th>\n",
       "      <th>date</th>\n",
       "      <th>open</th>\n",
       "      <th>high</th>\n",
       "      <th>low</th>\n",
       "      <th>close</th>\n",
       "      <th>volume</th>\n",
       "    </tr>\n",
       "  </thead>\n",
       "  <tbody>\n",
       "    <tr>\n",
       "      <th>0</th>\n",
       "      <td>2020-11-16</td>\n",
       "      <td>360.9800</td>\n",
       "      <td>362.7800</td>\n",
       "      <td>359.5900</td>\n",
       "      <td>362.5700</td>\n",
       "      <td>72203007.0</td>\n",
       "    </tr>\n",
       "    <tr>\n",
       "      <th>1</th>\n",
       "      <td>2020-11-13</td>\n",
       "      <td>355.2700</td>\n",
       "      <td>358.9000</td>\n",
       "      <td>354.7100</td>\n",
       "      <td>358.1000</td>\n",
       "      <td>62959429.0</td>\n",
       "    </tr>\n",
       "    <tr>\n",
       "      <th>2</th>\n",
       "      <td>2020-11-12</td>\n",
       "      <td>355.5800</td>\n",
       "      <td>356.7182</td>\n",
       "      <td>351.2600</td>\n",
       "      <td>353.2100</td>\n",
       "      <td>68118563.0</td>\n",
       "    </tr>\n",
       "    <tr>\n",
       "      <th>3</th>\n",
       "      <td>2020-11-11</td>\n",
       "      <td>356.4000</td>\n",
       "      <td>357.5600</td>\n",
       "      <td>355.0600</td>\n",
       "      <td>356.6700</td>\n",
       "      <td>58649048.0</td>\n",
       "    </tr>\n",
       "    <tr>\n",
       "      <th>4</th>\n",
       "      <td>2020-11-10</td>\n",
       "      <td>353.4900</td>\n",
       "      <td>355.1800</td>\n",
       "      <td>350.5100</td>\n",
       "      <td>354.0400</td>\n",
       "      <td>85552022.0</td>\n",
       "    </tr>\n",
       "    <tr>\n",
       "      <th>...</th>\n",
       "      <td>...</td>\n",
       "      <td>...</td>\n",
       "      <td>...</td>\n",
       "      <td>...</td>\n",
       "      <td>...</td>\n",
       "      <td>...</td>\n",
       "    </tr>\n",
       "    <tr>\n",
       "      <th>5291</th>\n",
       "      <td>1999-11-05</td>\n",
       "      <td>138.6250</td>\n",
       "      <td>139.1093</td>\n",
       "      <td>136.7812</td>\n",
       "      <td>137.8750</td>\n",
       "      <td>7431500.0</td>\n",
       "    </tr>\n",
       "    <tr>\n",
       "      <th>5292</th>\n",
       "      <td>1999-11-04</td>\n",
       "      <td>136.7500</td>\n",
       "      <td>137.3593</td>\n",
       "      <td>135.7656</td>\n",
       "      <td>136.5312</td>\n",
       "      <td>7907500.0</td>\n",
       "    </tr>\n",
       "    <tr>\n",
       "      <th>5293</th>\n",
       "      <td>1999-11-03</td>\n",
       "      <td>136.0000</td>\n",
       "      <td>136.3750</td>\n",
       "      <td>135.1250</td>\n",
       "      <td>135.5000</td>\n",
       "      <td>7222300.0</td>\n",
       "    </tr>\n",
       "    <tr>\n",
       "      <th>5294</th>\n",
       "      <td>1999-11-02</td>\n",
       "      <td>135.9687</td>\n",
       "      <td>137.2500</td>\n",
       "      <td>134.5937</td>\n",
       "      <td>134.5937</td>\n",
       "      <td>6516900.0</td>\n",
       "    </tr>\n",
       "    <tr>\n",
       "      <th>5295</th>\n",
       "      <td>1999-11-01</td>\n",
       "      <td>136.5000</td>\n",
       "      <td>137.0000</td>\n",
       "      <td>135.5625</td>\n",
       "      <td>135.5625</td>\n",
       "      <td>4006500.0</td>\n",
       "    </tr>\n",
       "  </tbody>\n",
       "</table>\n",
       "<p>5296 rows × 6 columns</p>\n",
       "</div>"
      ],
      "text/plain": [
       "            date      open      high       low     close      volume\n",
       "0     2020-11-16  360.9800  362.7800  359.5900  362.5700  72203007.0\n",
       "1     2020-11-13  355.2700  358.9000  354.7100  358.1000  62959429.0\n",
       "2     2020-11-12  355.5800  356.7182  351.2600  353.2100  68118563.0\n",
       "3     2020-11-11  356.4000  357.5600  355.0600  356.6700  58649048.0\n",
       "4     2020-11-10  353.4900  355.1800  350.5100  354.0400  85552022.0\n",
       "...          ...       ...       ...       ...       ...         ...\n",
       "5291  1999-11-05  138.6250  139.1093  136.7812  137.8750   7431500.0\n",
       "5292  1999-11-04  136.7500  137.3593  135.7656  136.5312   7907500.0\n",
       "5293  1999-11-03  136.0000  136.3750  135.1250  135.5000   7222300.0\n",
       "5294  1999-11-02  135.9687  137.2500  134.5937  134.5937   6516900.0\n",
       "5295  1999-11-01  136.5000  137.0000  135.5625  135.5625   4006500.0\n",
       "\n",
       "[5296 rows x 6 columns]"
      ]
     },
     "execution_count": 268,
     "metadata": {},
     "output_type": "execute_result"
    }
   ],
   "source": [
    "data=pd.read_csv(\"SPY_daily.csv\")\n",
    "data.rename(columns={\"1. open\":\"open\",\"2. high\":\"high\",\"3. low\":\"low\",\"4. close\":\"close\",\"5. volume\":\"volume\"}, inplace=True)\n",
    "data"
   ]
  },
  {
   "cell_type": "code",
   "execution_count": 269,
   "metadata": {},
   "outputs": [
    {
     "data": {
      "text/html": [
       "<div>\n",
       "<style scoped>\n",
       "    .dataframe tbody tr th:only-of-type {\n",
       "        vertical-align: middle;\n",
       "    }\n",
       "\n",
       "    .dataframe tbody tr th {\n",
       "        vertical-align: top;\n",
       "    }\n",
       "\n",
       "    .dataframe thead th {\n",
       "        text-align: right;\n",
       "    }\n",
       "</style>\n",
       "<table border=\"1\" class=\"dataframe\">\n",
       "  <thead>\n",
       "    <tr style=\"text-align: right;\">\n",
       "      <th></th>\n",
       "      <th>date</th>\n",
       "      <th>open</th>\n",
       "      <th>high</th>\n",
       "      <th>low</th>\n",
       "      <th>close</th>\n",
       "      <th>volume</th>\n",
       "    </tr>\n",
       "  </thead>\n",
       "  <tbody>\n",
       "    <tr>\n",
       "      <th>0</th>\n",
       "      <td>1999-11-01</td>\n",
       "      <td>136.5000</td>\n",
       "      <td>137.0000</td>\n",
       "      <td>135.5625</td>\n",
       "      <td>135.5625</td>\n",
       "      <td>4006500.0</td>\n",
       "    </tr>\n",
       "    <tr>\n",
       "      <th>1</th>\n",
       "      <td>1999-11-02</td>\n",
       "      <td>135.9687</td>\n",
       "      <td>137.2500</td>\n",
       "      <td>134.5937</td>\n",
       "      <td>134.5937</td>\n",
       "      <td>6516900.0</td>\n",
       "    </tr>\n",
       "    <tr>\n",
       "      <th>2</th>\n",
       "      <td>1999-11-03</td>\n",
       "      <td>136.0000</td>\n",
       "      <td>136.3750</td>\n",
       "      <td>135.1250</td>\n",
       "      <td>135.5000</td>\n",
       "      <td>7222300.0</td>\n",
       "    </tr>\n",
       "    <tr>\n",
       "      <th>3</th>\n",
       "      <td>1999-11-04</td>\n",
       "      <td>136.7500</td>\n",
       "      <td>137.3593</td>\n",
       "      <td>135.7656</td>\n",
       "      <td>136.5312</td>\n",
       "      <td>7907500.0</td>\n",
       "    </tr>\n",
       "    <tr>\n",
       "      <th>4</th>\n",
       "      <td>1999-11-05</td>\n",
       "      <td>138.6250</td>\n",
       "      <td>139.1093</td>\n",
       "      <td>136.7812</td>\n",
       "      <td>137.8750</td>\n",
       "      <td>7431500.0</td>\n",
       "    </tr>\n",
       "    <tr>\n",
       "      <th>...</th>\n",
       "      <td>...</td>\n",
       "      <td>...</td>\n",
       "      <td>...</td>\n",
       "      <td>...</td>\n",
       "      <td>...</td>\n",
       "      <td>...</td>\n",
       "    </tr>\n",
       "    <tr>\n",
       "      <th>5291</th>\n",
       "      <td>2020-11-10</td>\n",
       "      <td>353.4900</td>\n",
       "      <td>355.1800</td>\n",
       "      <td>350.5100</td>\n",
       "      <td>354.0400</td>\n",
       "      <td>85552022.0</td>\n",
       "    </tr>\n",
       "    <tr>\n",
       "      <th>5292</th>\n",
       "      <td>2020-11-11</td>\n",
       "      <td>356.4000</td>\n",
       "      <td>357.5600</td>\n",
       "      <td>355.0600</td>\n",
       "      <td>356.6700</td>\n",
       "      <td>58649048.0</td>\n",
       "    </tr>\n",
       "    <tr>\n",
       "      <th>5293</th>\n",
       "      <td>2020-11-12</td>\n",
       "      <td>355.5800</td>\n",
       "      <td>356.7182</td>\n",
       "      <td>351.2600</td>\n",
       "      <td>353.2100</td>\n",
       "      <td>68118563.0</td>\n",
       "    </tr>\n",
       "    <tr>\n",
       "      <th>5294</th>\n",
       "      <td>2020-11-13</td>\n",
       "      <td>355.2700</td>\n",
       "      <td>358.9000</td>\n",
       "      <td>354.7100</td>\n",
       "      <td>358.1000</td>\n",
       "      <td>62959429.0</td>\n",
       "    </tr>\n",
       "    <tr>\n",
       "      <th>5295</th>\n",
       "      <td>2020-11-16</td>\n",
       "      <td>360.9800</td>\n",
       "      <td>362.7800</td>\n",
       "      <td>359.5900</td>\n",
       "      <td>362.5700</td>\n",
       "      <td>72203007.0</td>\n",
       "    </tr>\n",
       "  </tbody>\n",
       "</table>\n",
       "<p>5296 rows × 6 columns</p>\n",
       "</div>"
      ],
      "text/plain": [
       "            date      open      high       low     close      volume\n",
       "0     1999-11-01  136.5000  137.0000  135.5625  135.5625   4006500.0\n",
       "1     1999-11-02  135.9687  137.2500  134.5937  134.5937   6516900.0\n",
       "2     1999-11-03  136.0000  136.3750  135.1250  135.5000   7222300.0\n",
       "3     1999-11-04  136.7500  137.3593  135.7656  136.5312   7907500.0\n",
       "4     1999-11-05  138.6250  139.1093  136.7812  137.8750   7431500.0\n",
       "...          ...       ...       ...       ...       ...         ...\n",
       "5291  2020-11-10  353.4900  355.1800  350.5100  354.0400  85552022.0\n",
       "5292  2020-11-11  356.4000  357.5600  355.0600  356.6700  58649048.0\n",
       "5293  2020-11-12  355.5800  356.7182  351.2600  353.2100  68118563.0\n",
       "5294  2020-11-13  355.2700  358.9000  354.7100  358.1000  62959429.0\n",
       "5295  2020-11-16  360.9800  362.7800  359.5900  362.5700  72203007.0\n",
       "\n",
       "[5296 rows x 6 columns]"
      ]
     },
     "execution_count": 269,
     "metadata": {},
     "output_type": "execute_result"
    }
   ],
   "source": [
    "# Flipping the dataset\n",
    "data = data[::-1].reset_index(drop=True)\n",
    "data"
   ]
  },
  {
   "cell_type": "code",
   "execution_count": 270,
   "metadata": {},
   "outputs": [
    {
     "data": {
      "text/html": [
       "<div>\n",
       "<style scoped>\n",
       "    .dataframe tbody tr th:only-of-type {\n",
       "        vertical-align: middle;\n",
       "    }\n",
       "\n",
       "    .dataframe tbody tr th {\n",
       "        vertical-align: top;\n",
       "    }\n",
       "\n",
       "    .dataframe thead th {\n",
       "        text-align: right;\n",
       "    }\n",
       "</style>\n",
       "<table border=\"1\" class=\"dataframe\">\n",
       "  <thead>\n",
       "    <tr style=\"text-align: right;\">\n",
       "      <th></th>\n",
       "      <th>open</th>\n",
       "      <th>high</th>\n",
       "      <th>low</th>\n",
       "      <th>close</th>\n",
       "      <th>volume</th>\n",
       "    </tr>\n",
       "  </thead>\n",
       "  <tbody>\n",
       "    <tr>\n",
       "      <th>0</th>\n",
       "      <td>136.5000</td>\n",
       "      <td>137.0000</td>\n",
       "      <td>135.5625</td>\n",
       "      <td>135.5625</td>\n",
       "      <td>4006500.0</td>\n",
       "    </tr>\n",
       "    <tr>\n",
       "      <th>1</th>\n",
       "      <td>135.9687</td>\n",
       "      <td>137.2500</td>\n",
       "      <td>134.5937</td>\n",
       "      <td>134.5937</td>\n",
       "      <td>6516900.0</td>\n",
       "    </tr>\n",
       "    <tr>\n",
       "      <th>2</th>\n",
       "      <td>136.0000</td>\n",
       "      <td>136.3750</td>\n",
       "      <td>135.1250</td>\n",
       "      <td>135.5000</td>\n",
       "      <td>7222300.0</td>\n",
       "    </tr>\n",
       "    <tr>\n",
       "      <th>3</th>\n",
       "      <td>136.7500</td>\n",
       "      <td>137.3593</td>\n",
       "      <td>135.7656</td>\n",
       "      <td>136.5312</td>\n",
       "      <td>7907500.0</td>\n",
       "    </tr>\n",
       "    <tr>\n",
       "      <th>4</th>\n",
       "      <td>138.6250</td>\n",
       "      <td>139.1093</td>\n",
       "      <td>136.7812</td>\n",
       "      <td>137.8750</td>\n",
       "      <td>7431500.0</td>\n",
       "    </tr>\n",
       "    <tr>\n",
       "      <th>...</th>\n",
       "      <td>...</td>\n",
       "      <td>...</td>\n",
       "      <td>...</td>\n",
       "      <td>...</td>\n",
       "      <td>...</td>\n",
       "    </tr>\n",
       "    <tr>\n",
       "      <th>5291</th>\n",
       "      <td>353.4900</td>\n",
       "      <td>355.1800</td>\n",
       "      <td>350.5100</td>\n",
       "      <td>354.0400</td>\n",
       "      <td>85552022.0</td>\n",
       "    </tr>\n",
       "    <tr>\n",
       "      <th>5292</th>\n",
       "      <td>356.4000</td>\n",
       "      <td>357.5600</td>\n",
       "      <td>355.0600</td>\n",
       "      <td>356.6700</td>\n",
       "      <td>58649048.0</td>\n",
       "    </tr>\n",
       "    <tr>\n",
       "      <th>5293</th>\n",
       "      <td>355.5800</td>\n",
       "      <td>356.7182</td>\n",
       "      <td>351.2600</td>\n",
       "      <td>353.2100</td>\n",
       "      <td>68118563.0</td>\n",
       "    </tr>\n",
       "    <tr>\n",
       "      <th>5294</th>\n",
       "      <td>355.2700</td>\n",
       "      <td>358.9000</td>\n",
       "      <td>354.7100</td>\n",
       "      <td>358.1000</td>\n",
       "      <td>62959429.0</td>\n",
       "    </tr>\n",
       "    <tr>\n",
       "      <th>5295</th>\n",
       "      <td>360.9800</td>\n",
       "      <td>362.7800</td>\n",
       "      <td>359.5900</td>\n",
       "      <td>362.5700</td>\n",
       "      <td>72203007.0</td>\n",
       "    </tr>\n",
       "  </tbody>\n",
       "</table>\n",
       "<p>5296 rows × 5 columns</p>\n",
       "</div>"
      ],
      "text/plain": [
       "          open      high       low     close      volume\n",
       "0     136.5000  137.0000  135.5625  135.5625   4006500.0\n",
       "1     135.9687  137.2500  134.5937  134.5937   6516900.0\n",
       "2     136.0000  136.3750  135.1250  135.5000   7222300.0\n",
       "3     136.7500  137.3593  135.7656  136.5312   7907500.0\n",
       "4     138.6250  139.1093  136.7812  137.8750   7431500.0\n",
       "...        ...       ...       ...       ...         ...\n",
       "5291  353.4900  355.1800  350.5100  354.0400  85552022.0\n",
       "5292  356.4000  357.5600  355.0600  356.6700  58649048.0\n",
       "5293  355.5800  356.7182  351.2600  353.2100  68118563.0\n",
       "5294  355.2700  358.9000  354.7100  358.1000  62959429.0\n",
       "5295  360.9800  362.7800  359.5900  362.5700  72203007.0\n",
       "\n",
       "[5296 rows x 5 columns]"
      ]
     },
     "execution_count": 270,
     "metadata": {},
     "output_type": "execute_result"
    }
   ],
   "source": [
    "data=data.drop(\"date\", axis=1)\n",
    "data"
   ]
  },
  {
   "cell_type": "markdown",
   "metadata": {},
   "source": [
    "**Scaling the Data**"
   ]
  },
  {
   "cell_type": "code",
   "execution_count": 272,
   "metadata": {},
   "outputs": [],
   "source": [
    "# Scaling all the training data\n",
    "MinMaxScaler = preprocessing.MinMaxScaler()  # MinMaxScaler == data_normaliser\n",
    "X = MinMaxScaler.fit_transform(data) # X == data_normalized"
   ]
  },
  {
   "cell_type": "code",
   "execution_count": 271,
   "metadata": {},
   "outputs": [],
   "source": [
    "history_points=50\n",
    "column=3"
   ]
  },
  {
   "cell_type": "code",
   "execution_count": 273,
   "metadata": {},
   "outputs": [],
   "source": [
    "# Building normalised training data in segments of 50x5\n",
    "# Get the normalised next day open data\n",
    "historical_data_normalised =      np.array([X[i  : i + history_points].copy() for i in range(len(X) - history_points)])\n",
    "next_day_close_values_normalised = np.array([X[:,column][i + history_points].copy() for i in range(len(X) - history_points)])\n",
    "next_day_close_values_normalised = np.expand_dims(next_day_close_values_normalised, -1)"
   ]
  },
  {
   "cell_type": "code",
   "execution_count": 274,
   "metadata": {},
   "outputs": [
    {
     "data": {
      "text/plain": [
       "array([[0.23157219, 0.22759698, 0.23406783, 0.22907186, 0.0044045 ],\n",
       "       [0.22977738, 0.22844623, 0.23075558, 0.22578177, 0.00728718],\n",
       "       [0.22988312, 0.22547388, 0.23257205, 0.22885961, 0.00809719],\n",
       "       [0.23241673, 0.22881751, 0.23476221, 0.23236161, 0.008884  ],\n",
       "       [0.23875076, 0.23476221, 0.23823447, 0.23692522, 0.00833741],\n",
       "       [0.23326127, 0.23226782, 0.2381278 , 0.23734972, 0.00514251],\n",
       "       [0.23832849, 0.23332937, 0.23652501, 0.23294539, 0.00500988],\n",
       "       [0.23072765, 0.23232081, 0.23583063, 0.23639442, 0.00715938],\n",
       "       [0.23727282, 0.23269244, 0.24058498, 0.23904775, 0.0053089 ],\n",
       "       [0.2408621 , 0.23773456, 0.23940989, 0.24329281, 0.01335708],\n",
       "       [0.24286771, 0.23863714, 0.24720914, 0.24440705, 0.00231575],\n",
       "       [0.24529593, 0.2479788 , 0.24955964, 0.24838688, 0.00846752],\n",
       "       [0.25099655, 0.24776649, 0.25372662, 0.2496604 , 0.01066558],\n",
       "       [0.25162996, 0.2479788 , 0.25479504, 0.25305644, 0.00496085],\n",
       "       [0.25152422, 0.24787248, 0.25607713, 0.25263194, 0.00535253],\n",
       "       [0.25162996, 0.2479788 , 0.25436767, 0.25252564, 0.00457548],\n",
       "       [0.25300216, 0.24744786, 0.25052139, 0.24828058, 0.00659947],\n",
       "       [0.24592933, 0.24606801, 0.24923929, 0.25082762, 0.00492491],\n",
       "       [0.25173536, 0.24755418, 0.25351294, 0.24902364, 0.00174895],\n",
       "       [0.2463516 , 0.24431619, 0.25073507, 0.24732561, 0.00824222],\n",
       "       [0.24592933, 0.24564339, 0.24582037, 0.24170074, 0.00862506],\n",
       "       [0.24107324, 0.23948638, 0.24582037, 0.24552129, 0.00781919],\n",
       "       [0.24550706, 0.24245873, 0.25052139, 0.24838688, 0.00749548],\n",
       "       [0.25363557, 0.25594028, 0.25960272, 0.2571952 , 0.01133895],\n",
       "       [0.25532464, 0.25042021, 0.25693186, 0.2535869 , 0.00340824],\n",
       "       [0.2544801 , 0.24904036, 0.25394031, 0.2496604 , 0.01210693],\n",
       "       [0.24793494, 0.24479414, 0.25094875, 0.24658256, 0.0050991 ],\n",
       "       [0.24951861, 0.24532475, 0.24710247, 0.24891734, 0.00723872],\n",
       "       [0.25110195, 0.24734187, 0.25223085, 0.25050941, 0.00569151],\n",
       "       [0.24825181, 0.24702324, 0.25361961, 0.25135842, 0.0046391 ],\n",
       "       [0.24888521, 0.24622699, 0.25137612, 0.24668885, 0.00639392],\n",
       "       [0.24466252, 0.24527176, 0.24934596, 0.24923589, 0.0077031 ],\n",
       "       [0.25078542, 0.24681092, 0.25319225, 0.25135842, 0.00652701],\n",
       "       [0.25353017, 0.24904036, 0.25629081, 0.2532687 , 0.00528742],\n",
       "       [0.25205223, 0.24861573, 0.25297856, 0.24976635, 0.005096  ],\n",
       "       [0.24877947, 0.25158808, 0.25383329, 0.25708925, 0.00896875],\n",
       "       [0.25564151, 0.2520127 , 0.25938904, 0.25836277, 0.00597881],\n",
       "       [0.26033917, 0.25981487, 0.26633389, 0.26616281, 0.00637406],\n",
       "       [0.26535369, 0.26082343, 0.26654757, 0.26547307, 0.00289392],\n",
       "       [0.26324235, 0.2598682 , 0.26798967, 0.26515486, 0.00449407],\n",
       "       [0.26472029, 0.26092975, 0.2674023 , 0.26727739, 0.00324989],\n",
       "       [0.26746504, 0.26347748, 0.27039386, 0.26669361, 0.00398514],\n",
       "       [0.26651476, 0.26326517, 0.27060754, 0.26748964, 0.00344705],\n",
       "       [0.27126546, 0.26581289, 0.26248761, 0.26260782, 0.00917889],\n",
       "       [0.25532464, 0.25158808, 0.24801053, 0.24329281, 0.00909334],\n",
       "       [0.24318458, 0.24298933, 0.23983726, 0.24414182, 0.01378769],\n",
       "       [0.24212891, 0.24288335, 0.24154672, 0.23650071, 0.00695452],\n",
       "       [0.24445139, 0.25732047, 0.24945297, 0.26366909, 0.00906658],\n",
       "       [0.26450915, 0.26124805, 0.26644056, 0.26536711, 0.00639702],\n",
       "       [0.26303121, 0.25848801, 0.26120551, 0.25942403, 0.00842032]])"
      ]
     },
     "execution_count": 274,
     "metadata": {},
     "output_type": "execute_result"
    }
   ],
   "source": [
    "historical_data_normalised[0]"
   ]
  },
  {
   "cell_type": "code",
   "execution_count": 275,
   "metadata": {},
   "outputs": [
    {
     "data": {
      "text/plain": [
       "array([0.25454221])"
      ]
     },
     "execution_count": 275,
     "metadata": {},
     "output_type": "execute_result"
    }
   ],
   "source": [
    "next_day_close_values_normalised[0]"
   ]
  },
  {
   "cell_type": "code",
   "execution_count": 276,
   "metadata": {},
   "outputs": [
    {
     "data": {
      "text/plain": [
       "array([[143.0625],\n",
       "       [145.    ],\n",
       "       [146.9687],\n",
       "       ...,\n",
       "       [353.21  ],\n",
       "       [358.1   ],\n",
       "       [362.57  ]])"
      ]
     },
     "execution_count": 276,
     "metadata": {},
     "output_type": "execute_result"
    }
   ],
   "source": [
    "# Retriving the real next day open values\n",
    "next_day_close_values = np.array([data.iloc[:,column][i + history_points].copy() for i in range(len(data) - history_points)])\n",
    "# Expanding the dimentions of next_day_open_values_normalised (5246, 1, 1)\n",
    "unscaled_y = np.expand_dims(next_day_close_values, -1)\n",
    "unscaled_y"
   ]
  },
  {
   "cell_type": "code",
   "execution_count": 277,
   "metadata": {},
   "outputs": [
    {
     "data": {
      "text/plain": [
       "MinMaxScaler(copy=True, feature_range=(0, 1))"
      ]
     },
     "execution_count": 277,
     "metadata": {},
     "output_type": "execute_result"
    }
   ],
   "source": [
    "y_normaliser = preprocessing.MinMaxScaler()\n",
    "y_normaliser.fit(unscaled_y)"
   ]
  },
  {
   "cell_type": "code",
   "execution_count": 278,
   "metadata": {},
   "outputs": [],
   "source": [
    "assert historical_data_normalised.shape[0] == next_day_open_values_normalised.shape[0]"
   ]
  },
  {
   "cell_type": "markdown",
   "metadata": {},
   "source": [
    "**Creating final datasets**"
   ]
  },
  {
   "cell_type": "code",
   "execution_count": 279,
   "metadata": {},
   "outputs": [],
   "source": [
    "test_split = 0.9 # percent of data to be used for testing\n",
    "n = int(historical_data_normalised.shape[0] * test_split)\n",
    "\n",
    "# splitting the dataset up into train and test sets\n",
    "\n",
    "X_train = historical_data_normalised[:n]\n",
    "y_train = next_day_close_values_normalised[:n]\n",
    "\n",
    "X_test = historical_data_normalised[n:]\n",
    "y_test = next_day_close_values_normalised[n:]\n",
    "\n",
    "unscaled_y_test = unscaled_y[n:]"
   ]
  },
  {
   "cell_type": "markdown",
   "metadata": {},
   "source": [
    "## Buildling the Model"
   ]
  },
  {
   "cell_type": "code",
   "execution_count": 280,
   "metadata": {},
   "outputs": [],
   "source": [
    "import keras\n",
    "import tensorflow as tf\n",
    "from keras.models import Model\n",
    "from keras.layers import Dense, Dropout, LSTM, Input, Activation, concatenate\n",
    "from keras import optimizers\n",
    "import numpy as np\n",
    "np.random.seed(4)\n",
    "tf.random.set_seed(4)\n",
    "\n",
    "lstm_input = Input(shape=(history_points, 5), name='lstm_input')\n",
    "x = LSTM(50, name='lstm_0')(lstm_input)\n",
    "x = Dropout(0.2, name='lstm_dropout_0')(x)\n",
    "x = Dense(64, name='dense_0')(x)\n",
    "x = Activation('sigmoid', name='sigmoid_0')(x)\n",
    "x = Dense(1, name='dense_1')(x)\n",
    "output = Activation('linear', name='linear_output')(x)\n",
    "model = Model(inputs=lstm_input, outputs=output)\n",
    "\n",
    "adam = optimizers.Adam(lr=0.0005)\n",
    "\n",
    "model.compile(optimizer=adam, loss='mse')"
   ]
  },
  {
   "cell_type": "code",
   "execution_count": 221,
   "metadata": {},
   "outputs": [
    {
     "name": "stdout",
     "output_type": "stream",
     "text": [
      "Epoch 1/50\n",
      "133/133 [==============================] - 3s 24ms/step - loss: 0.0126 - val_loss: 0.0054\n",
      "Epoch 2/50\n",
      "133/133 [==============================] - 3s 21ms/step - loss: 4.5826e-04 - val_loss: 0.0039\n",
      "Epoch 3/50\n",
      "133/133 [==============================] - 3s 21ms/step - loss: 3.3209e-04 - val_loss: 0.0034\n",
      "Epoch 4/50\n",
      "133/133 [==============================] - 3s 23ms/step - loss: 2.6938e-04 - val_loss: 0.0019\n",
      "Epoch 5/50\n",
      "133/133 [==============================] - 3s 21ms/step - loss: 2.4709e-04 - val_loss: 9.7026e-04\n",
      "Epoch 6/50\n",
      "133/133 [==============================] - 3s 23ms/step - loss: 2.1297e-04 - val_loss: 0.0016\n",
      "Epoch 7/50\n",
      "133/133 [==============================] - 3s 23ms/step - loss: 2.1222e-04 - val_loss: 0.0016\n",
      "Epoch 8/50\n",
      "133/133 [==============================] - 3s 22ms/step - loss: 2.0886e-04 - val_loss: 2.7907e-04\n",
      "Epoch 9/50\n",
      "133/133 [==============================] - 3s 20ms/step - loss: 1.9430e-04 - val_loss: 8.1072e-04\n",
      "Epoch 10/50\n",
      "133/133 [==============================] - 3s 19ms/step - loss: 1.8868e-04 - val_loss: 2.0051e-04\n",
      "Epoch 11/50\n",
      "133/133 [==============================] - 3s 19ms/step - loss: 1.7645e-04 - val_loss: 3.8807e-04\n",
      "Epoch 12/50\n",
      "133/133 [==============================] - 3s 19ms/step - loss: 1.8381e-04 - val_loss: 0.0010\n",
      "Epoch 13/50\n",
      "133/133 [==============================] - 3s 20ms/step - loss: 1.7539e-04 - val_loss: 4.4949e-04\n",
      "Epoch 14/50\n",
      "133/133 [==============================] - 3s 19ms/step - loss: 1.7001e-04 - val_loss: 9.9486e-05\n",
      "Epoch 15/50\n",
      "133/133 [==============================] - 3s 21ms/step - loss: 1.7114e-04 - val_loss: 1.4921e-04\n",
      "Epoch 16/50\n",
      "133/133 [==============================] - 3s 19ms/step - loss: 1.4702e-04 - val_loss: 2.8659e-04\n",
      "Epoch 17/50\n",
      "133/133 [==============================] - 3s 19ms/step - loss: 1.5341e-04 - val_loss: 5.9474e-04\n",
      "Epoch 18/50\n",
      "133/133 [==============================] - 3s 20ms/step - loss: 1.4961e-04 - val_loss: 7.6261e-04\n",
      "Epoch 19/50\n",
      "133/133 [==============================] - 3s 19ms/step - loss: 1.5362e-04 - val_loss: 1.0512e-04\n",
      "Epoch 20/50\n",
      "133/133 [==============================] - 3s 19ms/step - loss: 1.5641e-04 - val_loss: 3.6018e-04\n",
      "Epoch 21/50\n",
      "133/133 [==============================] - 3s 20ms/step - loss: 1.4764e-04 - val_loss: 2.5613e-04\n",
      "Epoch 22/50\n",
      "133/133 [==============================] - 3s 20ms/step - loss: 1.5074e-04 - val_loss: 2.5885e-04\n",
      "Epoch 23/50\n",
      "133/133 [==============================] - 3s 19ms/step - loss: 1.4547e-04 - val_loss: 2.9134e-04\n",
      "Epoch 24/50\n",
      "133/133 [==============================] - 3s 20ms/step - loss: 1.3633e-04 - val_loss: 7.9291e-04\n",
      "Epoch 25/50\n",
      "133/133 [==============================] - 3s 19ms/step - loss: 1.4644e-04 - val_loss: 6.8716e-05\n",
      "Epoch 26/50\n",
      "133/133 [==============================] - 3s 20ms/step - loss: 1.4188e-04 - val_loss: 1.9131e-04\n",
      "Epoch 27/50\n",
      "133/133 [==============================] - 3s 20ms/step - loss: 1.5097e-04 - val_loss: 1.8497e-04\n",
      "Epoch 28/50\n",
      "133/133 [==============================] - 3s 19ms/step - loss: 1.4127e-04 - val_loss: 1.2012e-04\n",
      "Epoch 29/50\n",
      "133/133 [==============================] - 3s 20ms/step - loss: 1.3830e-04 - val_loss: 6.7745e-05\n",
      "Epoch 30/50\n",
      "133/133 [==============================] - 3s 20ms/step - loss: 1.4649e-04 - val_loss: 9.6846e-05\n",
      "Epoch 31/50\n",
      "133/133 [==============================] - 3s 19ms/step - loss: 1.3229e-04 - val_loss: 1.7999e-04\n",
      "Epoch 32/50\n",
      "133/133 [==============================] - 3s 19ms/step - loss: 1.3197e-04 - val_loss: 1.2641e-04\n",
      "Epoch 33/50\n",
      "133/133 [==============================] - 3s 19ms/step - loss: 1.4023e-04 - val_loss: 1.5774e-04\n",
      "Epoch 34/50\n",
      "133/133 [==============================] - 3s 19ms/step - loss: 1.4215e-04 - val_loss: 5.0897e-05\n",
      "Epoch 35/50\n",
      "133/133 [==============================] - 3s 19ms/step - loss: 1.3403e-04 - val_loss: 5.4898e-05\n",
      "Epoch 36/50\n",
      "133/133 [==============================] - 3s 19ms/step - loss: 1.3571e-04 - val_loss: 6.6501e-05\n",
      "Epoch 37/50\n",
      "133/133 [==============================] - 3s 19ms/step - loss: 1.3011e-04 - val_loss: 3.6004e-04\n",
      "Epoch 38/50\n",
      "133/133 [==============================] - 3s 20ms/step - loss: 1.2699e-04 - val_loss: 1.0658e-04\n",
      "Epoch 39/50\n",
      "133/133 [==============================] - 3s 20ms/step - loss: 1.3130e-04 - val_loss: 7.0079e-05\n",
      "Epoch 40/50\n",
      "133/133 [==============================] - 3s 20ms/step - loss: 1.3017e-04 - val_loss: 6.3920e-05\n",
      "Epoch 41/50\n",
      "133/133 [==============================] - 3s 20ms/step - loss: 1.2047e-04 - val_loss: 1.2095e-04\n",
      "Epoch 42/50\n",
      "133/133 [==============================] - 3s 21ms/step - loss: 1.3106e-04 - val_loss: 4.7646e-04\n",
      "Epoch 43/50\n",
      "133/133 [==============================] - 3s 21ms/step - loss: 1.2181e-04 - val_loss: 3.4948e-05\n",
      "Epoch 44/50\n",
      "133/133 [==============================] - 3s 20ms/step - loss: 1.3306e-04 - val_loss: 7.9563e-05\n",
      "Epoch 45/50\n",
      "133/133 [==============================] - 3s 20ms/step - loss: 1.2885e-04 - val_loss: 4.0053e-05\n",
      "Epoch 46/50\n",
      "133/133 [==============================] - 3s 19ms/step - loss: 1.2405e-04 - val_loss: 1.9831e-04\n",
      "Epoch 47/50\n",
      "133/133 [==============================] - 3s 20ms/step - loss: 1.1938e-04 - val_loss: 1.6859e-04\n",
      "Epoch 48/50\n",
      "133/133 [==============================] - 3s 19ms/step - loss: 1.2468e-04 - val_loss: 3.7074e-05\n",
      "Epoch 49/50\n",
      "133/133 [==============================] - 3s 20ms/step - loss: 1.2467e-04 - val_loss: 6.5173e-05\n",
      "Epoch 50/50\n",
      "133/133 [==============================] - 3s 19ms/step - loss: 1.2094e-04 - val_loss: 6.3377e-05\n",
      "17/17 [==============================] - 0s 5ms/step - loss: 2.8473e-04\n",
      "Test Loss:0.00028472807025536895\n"
     ]
    }
   ],
   "source": [
    "model.fit(X_train, y_train, batch_size=32, epochs=50, shuffle=True, validation_split=0.1)\n",
    "evaluation = model.evaluate(X_test, y_test)\n",
    "print(f\"Test Loss:{evaluation}\")"
   ]
  },
  {
   "cell_type": "markdown",
   "metadata": {},
   "source": [
    "**MSE of the normalized dataset**"
   ]
  },
  {
   "cell_type": "code",
   "execution_count": 222,
   "metadata": {},
   "outputs": [
    {
     "name": "stdout",
     "output_type": "stream",
     "text": [
      "Scaled MSE: 18.375368443758436\n"
     ]
    }
   ],
   "source": [
    "y_test_predicted = model.predict(X_test)\n",
    "# # # model.predict returns normalised values\n",
    "# # # now we scale them back up using the y_scaler from before\n",
    "y_test_predicted = y_normaliser.inverse_transform(y_test_predicted)\n",
    "\n",
    "# # # also getting predictions for the entire dataset, just to see how it performs\n",
    "y_train_predicted = model.predict(X_train)\n",
    "y_train_predicted = y_normaliser.inverse_transform(y_train_predicted)\n",
    "\n",
    "# assert unscaled_y_test.shape == y_test_predicted.shape\n",
    "real_mse = np.mean(np.square(unscaled_y_test - y_test_predicted))\n",
    "scaled_mse = real_mse / (np.max(unscaled_y_test) - np.min(unscaled_y_test)) * 100\n",
    "print(f\"Scaled MSE: {scaled_mse}\")"
   ]
  },
  {
   "cell_type": "code",
   "execution_count": 223,
   "metadata": {},
   "outputs": [
    {
     "data": {
      "image/png": "[encoded data removed]",
      "text/plain": [
       "<Figure size 1584x1080 with 1 Axes>"
      ]
     },
     "metadata": {
      "needs_background": "light"
     },
     "output_type": "display_data"
    }
   ],
   "source": [
    "import matplotlib.pyplot as plt\n",
    "plt.gcf().set_size_inches(22, 15, forward=True)\n",
    "\n",
    "start = 0\n",
    "end = -1\n",
    "\n",
    "real = plt.plot(unscaled_y_test[start:end], label='real')\n",
    "pred = plt.plot(y_test_predicted[start:end], label='predicted')\n",
    "\n",
    "plt.legend(['Real', 'Predicted'])\n",
    "\n",
    "plt.show()"
   ]
  },
  {
   "cell_type": "markdown",
   "metadata": {},
   "source": [
    "## Making predictions"
   ]
  },
  {
   "cell_type": "code",
   "execution_count": 224,
   "metadata": {},
   "outputs": [
    {
     "data": {
      "text/html": [
       "<div>\n",
       "<style scoped>\n",
       "    .dataframe tbody tr th:only-of-type {\n",
       "        vertical-align: middle;\n",
       "    }\n",
       "\n",
       "    .dataframe tbody tr th {\n",
       "        vertical-align: top;\n",
       "    }\n",
       "\n",
       "    .dataframe thead th {\n",
       "        text-align: right;\n",
       "    }\n",
       "</style>\n",
       "<table border=\"1\" class=\"dataframe\">\n",
       "  <thead>\n",
       "    <tr style=\"text-align: right;\">\n",
       "      <th></th>\n",
       "      <th>open</th>\n",
       "      <th>high</th>\n",
       "      <th>low</th>\n",
       "      <th>close</th>\n",
       "      <th>volume</th>\n",
       "    </tr>\n",
       "  </thead>\n",
       "  <tbody>\n",
       "    <tr>\n",
       "      <th>5294</th>\n",
       "      <td>355.27</td>\n",
       "      <td>358.90</td>\n",
       "      <td>354.71</td>\n",
       "      <td>358.10</td>\n",
       "      <td>62959429.0</td>\n",
       "    </tr>\n",
       "    <tr>\n",
       "      <th>5295</th>\n",
       "      <td>360.98</td>\n",
       "      <td>362.78</td>\n",
       "      <td>359.59</td>\n",
       "      <td>362.57</td>\n",
       "      <td>72203007.0</td>\n",
       "    </tr>\n",
       "  </tbody>\n",
       "</table>\n",
       "</div>"
      ],
      "text/plain": [
       "        open    high     low   close      volume\n",
       "5294  355.27  358.90  354.71  358.10  62959429.0\n",
       "5295  360.98  362.78  359.59  362.57  72203007.0"
      ]
     },
     "execution_count": 224,
     "metadata": {},
     "output_type": "execute_result"
    }
   ],
   "source": [
    "data[-2:]"
   ]
  },
  {
   "cell_type": "code",
   "execution_count": 225,
   "metadata": {},
   "outputs": [
    {
     "data": {
      "text/plain": [
       "array([[338.1678]], dtype=float32)"
      ]
     },
     "execution_count": 225,
     "metadata": {},
     "output_type": "execute_result"
    }
   ],
   "source": [
    "# Predicting today\n",
    "d=data[-51:-1]\n",
    "normalized_data=MinMaxScaler.fit_transform(d)\n",
    "today=model.predict(np.expand_dims(normalized_data, 0))\n",
    "today=y_normaliser.inverse_transform(today)\n",
    "today"
   ]
  },
  {
   "cell_type": "code",
   "execution_count": 226,
   "metadata": {},
   "outputs": [
    {
     "data": {
      "text/plain": [
       "array([[333.0207]], dtype=float32)"
      ]
     },
     "execution_count": 226,
     "metadata": {},
     "output_type": "execute_result"
    }
   ],
   "source": [
    "# Predicting tomorrow\n",
    "d=data[-50:]\n",
    "normalized_data=MinMaxScaler.fit_transform(data)\n",
    "tomorrow=model.predict(np.expand_dims(normalized_data, 0))\n",
    "tomorrow=y_normaliser.inverse_transform(tomorrow)\n",
    "tomorrow"
   ]
  },
  {
   "cell_type": "code",
   "execution_count": null,
   "metadata": {},
   "outputs": [],
   "source": [
    "# # Predicting next day\n",
    "# d=data[-49:]\n",
    "\n",
    "# normalized_data=MinMaxScaler.fit_transform(d)\n",
    "# tomorrow=model.predict(np.expand_dims(normalized_data, 0))\n",
    "# next_day=y_normaliser.inverse_transform(next_day)\n",
    "# next_day"
   ]
  },
  {
   "cell_type": "code",
   "execution_count": 227,
   "metadata": {},
   "outputs": [],
   "source": [
    "model.save(\"predict_next_day_open.h5\")"
   ]
  },
  {
   "cell_type": "markdown",
   "metadata": {},
   "source": [
    "## Loading Saved Models"
   ]
  },
  {
   "cell_type": "code",
   "execution_count": 228,
   "metadata": {},
   "outputs": [],
   "source": [
    "from keras.models import load_model\n",
    "\n",
    "close_model=load_model('built_models/predict_next_day_close.h5')\n",
    "open_model=load_model('built_models/predict_next_day_open.h5')\n",
    "high_model=load_model('built_models/predict_next_day_high.h5')\n",
    "low_model=load_model('built_models/predict_next_day_low.h5')\n",
    "volume_model=load_model('built_models/predict_next_day_volume.h5')"
   ]
  },
  {
   "cell_type": "code",
   "execution_count": null,
   "metadata": {},
   "outputs": [],
   "source": [
    "# Predicting today\n",
    "d=data[-51:-1]\n",
    "normalized_data=MinMaxScaler.fit_transform(d)\n",
    "today=model.predict(np.expand_dims(normalized_data, 0))\n",
    "today=y_normaliser.inverse_transform(today)\n",
    "today"
   ]
  },
  {
   "cell_type": "markdown",
   "metadata": {},
   "source": [
    "#### Create volume scaler\n",
    "#### Create way to scale predicted values to real values"
   ]
  },
  {
   "cell_type": "code",
   "execution_count": 248,
   "metadata": {},
   "outputs": [
    {
     "name": "stdout",
     "output_type": "stream",
     "text": [
      "[[333.0207]] [[334.14026]] [[328.9558]] [[339.87247]] [[1.2203836e+08]]\n"
     ]
    }
   ],
   "source": [
    "# Predicting tomorrow\n",
    "d=data[-50:]\n",
    "normalized_data=MinMaxScaler.fit_transform(d)\n",
    "tom_open=open_model.predict(np.expand_dims(normalized_data, 0))\n",
    "tom_close=close_model.predict(np.expand_dims(normalized_data, 0))\n",
    "tom_high=high_model.predict(np.expand_dims(normalized_data, 0))\n",
    "tom_low=low_model.predict(np.expand_dims(normalized_data, 0))\n",
    "tom_volume=volume_model.predict(np.expand_dims(normalized_data, 0))\n",
    "\n",
    "open_=y_normaliser.inverse_transform(tom_open)\n",
    "close_=y_normaliser.inverse_transform(tom_close)\n",
    "high_=y_normaliser.inverse_transform(tom_high)\n",
    "low_=y_normaliser.inverse_transform(tom_low)\n",
    "volume_=y_normaliser.inverse_transform(tom_volume)\n",
    "print(open_, close_, high_, low_, volume_)"
   ]
  },
  {
   "cell_type": "code",
   "execution_count": 266,
   "metadata": {},
   "outputs": [],
   "source": [
    "# Building new \n",
    "new_row=pd.DataFrame({\n",
    "    \"open\":open_[0][0],\n",
    "    \"high\":high_[0][0],\n",
    "    \"low\":low_[0][0],\n",
    "    \"close\":close_[0][0],\n",
    "    \"volume\":volume_[0][0]\n",
    "}, index=[((max(data.index)+1))])"
   ]
  },
  {
   "cell_type": "code",
   "execution_count": null,
   "metadata": {},
   "outputs": [],
   "source": [
    "# Scale new row to match real prices"
   ]
  },
  {
   "cell_type": "code",
   "execution_count": 265,
   "metadata": {},
   "outputs": [
    {
     "data": {
      "text/html": [
       "<div>\n",
       "<style scoped>\n",
       "    .dataframe tbody tr th:only-of-type {\n",
       "        vertical-align: middle;\n",
       "    }\n",
       "\n",
       "    .dataframe tbody tr th {\n",
       "        vertical-align: top;\n",
       "    }\n",
       "\n",
       "    .dataframe thead th {\n",
       "        text-align: right;\n",
       "    }\n",
       "</style>\n",
       "<table border=\"1\" class=\"dataframe\">\n",
       "  <thead>\n",
       "    <tr style=\"text-align: right;\">\n",
       "      <th></th>\n",
       "      <th>open</th>\n",
       "      <th>high</th>\n",
       "      <th>low</th>\n",
       "      <th>close</th>\n",
       "      <th>volume</th>\n",
       "    </tr>\n",
       "  </thead>\n",
       "  <tbody>\n",
       "    <tr>\n",
       "      <th>0</th>\n",
       "      <td>136.500000</td>\n",
       "      <td>137.000000</td>\n",
       "      <td>135.562500</td>\n",
       "      <td>135.562500</td>\n",
       "      <td>4006500.0</td>\n",
       "    </tr>\n",
       "    <tr>\n",
       "      <th>1</th>\n",
       "      <td>135.968700</td>\n",
       "      <td>137.250000</td>\n",
       "      <td>134.593700</td>\n",
       "      <td>134.593700</td>\n",
       "      <td>6516900.0</td>\n",
       "    </tr>\n",
       "    <tr>\n",
       "      <th>2</th>\n",
       "      <td>136.000000</td>\n",
       "      <td>136.375000</td>\n",
       "      <td>135.125000</td>\n",
       "      <td>135.500000</td>\n",
       "      <td>7222300.0</td>\n",
       "    </tr>\n",
       "    <tr>\n",
       "      <th>3</th>\n",
       "      <td>136.750000</td>\n",
       "      <td>137.359300</td>\n",
       "      <td>135.765600</td>\n",
       "      <td>136.531200</td>\n",
       "      <td>7907500.0</td>\n",
       "    </tr>\n",
       "    <tr>\n",
       "      <th>4</th>\n",
       "      <td>138.625000</td>\n",
       "      <td>139.109300</td>\n",
       "      <td>136.781200</td>\n",
       "      <td>137.875000</td>\n",
       "      <td>7431500.0</td>\n",
       "    </tr>\n",
       "    <tr>\n",
       "      <th>...</th>\n",
       "      <td>...</td>\n",
       "      <td>...</td>\n",
       "      <td>...</td>\n",
       "      <td>...</td>\n",
       "      <td>...</td>\n",
       "    </tr>\n",
       "    <tr>\n",
       "      <th>5292</th>\n",
       "      <td>356.400000</td>\n",
       "      <td>357.560000</td>\n",
       "      <td>355.060000</td>\n",
       "      <td>356.670000</td>\n",
       "      <td>58649048.0</td>\n",
       "    </tr>\n",
       "    <tr>\n",
       "      <th>5293</th>\n",
       "      <td>355.580000</td>\n",
       "      <td>356.718200</td>\n",
       "      <td>351.260000</td>\n",
       "      <td>353.210000</td>\n",
       "      <td>68118563.0</td>\n",
       "    </tr>\n",
       "    <tr>\n",
       "      <th>5294</th>\n",
       "      <td>355.270000</td>\n",
       "      <td>358.900000</td>\n",
       "      <td>354.710000</td>\n",
       "      <td>358.100000</td>\n",
       "      <td>62959429.0</td>\n",
       "    </tr>\n",
       "    <tr>\n",
       "      <th>5295</th>\n",
       "      <td>360.980000</td>\n",
       "      <td>362.780000</td>\n",
       "      <td>359.590000</td>\n",
       "      <td>362.570000</td>\n",
       "      <td>72203007.0</td>\n",
       "    </tr>\n",
       "    <tr>\n",
       "      <th>5296</th>\n",
       "      <td>333.020691</td>\n",
       "      <td>328.955811</td>\n",
       "      <td>339.872467</td>\n",
       "      <td>334.140259</td>\n",
       "      <td>122038360.0</td>\n",
       "    </tr>\n",
       "  </tbody>\n",
       "</table>\n",
       "<p>5297 rows × 5 columns</p>\n",
       "</div>"
      ],
      "text/plain": [
       "            open        high         low       close       volume\n",
       "0     136.500000  137.000000  135.562500  135.562500    4006500.0\n",
       "1     135.968700  137.250000  134.593700  134.593700    6516900.0\n",
       "2     136.000000  136.375000  135.125000  135.500000    7222300.0\n",
       "3     136.750000  137.359300  135.765600  136.531200    7907500.0\n",
       "4     138.625000  139.109300  136.781200  137.875000    7431500.0\n",
       "...          ...         ...         ...         ...          ...\n",
       "5292  356.400000  357.560000  355.060000  356.670000   58649048.0\n",
       "5293  355.580000  356.718200  351.260000  353.210000   68118563.0\n",
       "5294  355.270000  358.900000  354.710000  358.100000   62959429.0\n",
       "5295  360.980000  362.780000  359.590000  362.570000   72203007.0\n",
       "5296  333.020691  328.955811  339.872467  334.140259  122038360.0\n",
       "\n",
       "[5297 rows x 5 columns]"
      ]
     },
     "execution_count": 265,
     "metadata": {},
     "output_type": "execute_result"
    }
   ],
   "source": [
    "# Adding predicted data to datset\n",
    "data.append(new_row)"
   ]
  },
  {
   "cell_type": "code",
   "execution_count": null,
   "metadata": {},
   "outputs": [],
   "source": [
    "# How to scale the new row\n"
   ]
  }
 ],
 "metadata": {
  "kernelspec": {
   "display_name": "Python 3",
   "language": "python",
   "name": "python3"
  },
  "language_info": {
   "codemirror_mode": {
    "name": "ipython",
    "version": 3
   },
   "file_extension": ".py",
   "mimetype": "text/x-python",
   "name": "python",
   "nbconvert_exporter": "python",
   "pygments_lexer": "ipython3",
   "version": "3.7.6"
  }
 },
 "nbformat": 4,
 "nbformat_minor": 4
}
