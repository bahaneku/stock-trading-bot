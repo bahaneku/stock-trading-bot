{
 "cells": [
  {
   "cell_type": "code",
   "execution_count": 1,
   "metadata": {},
   "outputs": [],
   "source": [
    "import pandas as pd\n",
    "import numpy as np\n",
    "from sklearn import preprocessing\n",
    "from keras.models import load_model"
   ]
  },
  {
   "cell_type": "code",
   "execution_count": 2,
   "metadata": {},
   "outputs": [],
   "source": [
    "# Loading different models\n",
    "close_model=load_model('predict_hourly_close.h5')"
   ]
  },
  {
   "cell_type": "markdown",
   "metadata": {},
   "source": [
    "### Normalize incoming data"
   ]
  },
  {
   "cell_type": "code",
   "execution_count": 4,
   "metadata": {},
   "outputs": [
    {
     "data": {
      "text/html": [
       "<div>\n",
       "<style scoped>\n",
       "    .dataframe tbody tr th:only-of-type {\n",
       "        vertical-align: middle;\n",
       "    }\n",
       "\n",
       "    .dataframe tbody tr th {\n",
       "        vertical-align: top;\n",
       "    }\n",
       "\n",
       "    .dataframe thead th {\n",
       "        text-align: right;\n",
       "    }\n",
       "</style>\n",
       "<table border=\"1\" class=\"dataframe\">\n",
       "  <thead>\n",
       "    <tr style=\"text-align: right;\">\n",
       "      <th></th>\n",
       "      <th>Unnamed: 0</th>\n",
       "      <th>Time</th>\n",
       "      <th>Open</th>\n",
       "      <th>High</th>\n",
       "      <th>Low</th>\n",
       "      <th>Last</th>\n",
       "      <th>Volume</th>\n",
       "    </tr>\n",
       "  </thead>\n",
       "  <tbody>\n",
       "    <tr>\n",
       "      <th>0</th>\n",
       "      <td>28</td>\n",
       "      <td>5/5/08 9:59</td>\n",
       "      <td>141.2000</td>\n",
       "      <td>141.260</td>\n",
       "      <td>141.140</td>\n",
       "      <td>141.1800</td>\n",
       "      <td>451000.0</td>\n",
       "    </tr>\n",
       "    <tr>\n",
       "      <th>1</th>\n",
       "      <td>88</td>\n",
       "      <td>5/5/08 10:59</td>\n",
       "      <td>140.5900</td>\n",
       "      <td>140.600</td>\n",
       "      <td>140.530</td>\n",
       "      <td>140.5400</td>\n",
       "      <td>446700.0</td>\n",
       "    </tr>\n",
       "    <tr>\n",
       "      <th>2</th>\n",
       "      <td>148</td>\n",
       "      <td>5/5/08 11:59</td>\n",
       "      <td>140.9000</td>\n",
       "      <td>140.900</td>\n",
       "      <td>140.830</td>\n",
       "      <td>140.8500</td>\n",
       "      <td>190900.0</td>\n",
       "    </tr>\n",
       "    <tr>\n",
       "      <th>3</th>\n",
       "      <td>208</td>\n",
       "      <td>5/5/08 12:59</td>\n",
       "      <td>140.8300</td>\n",
       "      <td>140.860</td>\n",
       "      <td>140.800</td>\n",
       "      <td>140.8600</td>\n",
       "      <td>40600.0</td>\n",
       "    </tr>\n",
       "    <tr>\n",
       "      <th>4</th>\n",
       "      <td>268</td>\n",
       "      <td>5/5/08 13:59</td>\n",
       "      <td>140.4900</td>\n",
       "      <td>140.530</td>\n",
       "      <td>140.440</td>\n",
       "      <td>140.5200</td>\n",
       "      <td>409400.0</td>\n",
       "    </tr>\n",
       "    <tr>\n",
       "      <th>...</th>\n",
       "      <td>...</td>\n",
       "      <td>...</td>\n",
       "      <td>...</td>\n",
       "      <td>...</td>\n",
       "      <td>...</td>\n",
       "      <td>...</td>\n",
       "      <td>...</td>\n",
       "    </tr>\n",
       "    <tr>\n",
       "      <th>22010</th>\n",
       "      <td>1402558</td>\n",
       "      <td>11/13/20 11:59</td>\n",
       "      <td>356.2399</td>\n",
       "      <td>356.355</td>\n",
       "      <td>356.220</td>\n",
       "      <td>356.2700</td>\n",
       "      <td>100894.0</td>\n",
       "    </tr>\n",
       "    <tr>\n",
       "      <th>22011</th>\n",
       "      <td>1402618</td>\n",
       "      <td>11/13/20 12:59</td>\n",
       "      <td>356.6400</td>\n",
       "      <td>356.740</td>\n",
       "      <td>356.635</td>\n",
       "      <td>356.7399</td>\n",
       "      <td>42318.0</td>\n",
       "    </tr>\n",
       "    <tr>\n",
       "      <th>22012</th>\n",
       "      <td>1402678</td>\n",
       "      <td>11/13/20 13:59</td>\n",
       "      <td>356.6900</td>\n",
       "      <td>356.700</td>\n",
       "      <td>356.560</td>\n",
       "      <td>356.6000</td>\n",
       "      <td>97078.0</td>\n",
       "    </tr>\n",
       "    <tr>\n",
       "      <th>22013</th>\n",
       "      <td>1402738</td>\n",
       "      <td>11/13/20 14:59</td>\n",
       "      <td>357.8000</td>\n",
       "      <td>357.810</td>\n",
       "      <td>357.640</td>\n",
       "      <td>357.6600</td>\n",
       "      <td>116020.0</td>\n",
       "    </tr>\n",
       "    <tr>\n",
       "      <th>22014</th>\n",
       "      <td>1402798</td>\n",
       "      <td>11/13/20 15:59</td>\n",
       "      <td>358.3500</td>\n",
       "      <td>358.420</td>\n",
       "      <td>357.930</td>\n",
       "      <td>358.1000</td>\n",
       "      <td>2920759.0</td>\n",
       "    </tr>\n",
       "  </tbody>\n",
       "</table>\n",
       "<p>22015 rows × 7 columns</p>\n",
       "</div>"
      ],
      "text/plain": [
       "       Unnamed: 0            Time      Open     High      Low      Last  \\\n",
       "0              28     5/5/08 9:59  141.2000  141.260  141.140  141.1800   \n",
       "1              88    5/5/08 10:59  140.5900  140.600  140.530  140.5400   \n",
       "2             148    5/5/08 11:59  140.9000  140.900  140.830  140.8500   \n",
       "3             208    5/5/08 12:59  140.8300  140.860  140.800  140.8600   \n",
       "4             268    5/5/08 13:59  140.4900  140.530  140.440  140.5200   \n",
       "...           ...             ...       ...      ...      ...       ...   \n",
       "22010     1402558  11/13/20 11:59  356.2399  356.355  356.220  356.2700   \n",
       "22011     1402618  11/13/20 12:59  356.6400  356.740  356.635  356.7399   \n",
       "22012     1402678  11/13/20 13:59  356.6900  356.700  356.560  356.6000   \n",
       "22013     1402738  11/13/20 14:59  357.8000  357.810  357.640  357.6600   \n",
       "22014     1402798  11/13/20 15:59  358.3500  358.420  357.930  358.1000   \n",
       "\n",
       "          Volume  \n",
       "0       451000.0  \n",
       "1       446700.0  \n",
       "2       190900.0  \n",
       "3        40600.0  \n",
       "4       409400.0  \n",
       "...          ...  \n",
       "22010   100894.0  \n",
       "22011    42318.0  \n",
       "22012    97078.0  \n",
       "22013   116020.0  \n",
       "22014  2920759.0  \n",
       "\n",
       "[22015 rows x 7 columns]"
      ]
     },
     "execution_count": 4,
     "metadata": {},
     "output_type": "execute_result"
    }
   ],
   "source": [
    "data=pd.read_csv(\"../hourly_close.csv\")\n",
    "# data.rename(columns={\"Change\":\"Close\"}, inplace=True)\n",
    "data"
   ]
  },
  {
   "cell_type": "code",
   "execution_count": 5,
   "metadata": {},
   "outputs": [
    {
     "data": {
      "text/html": [
       "<div>\n",
       "<style scoped>\n",
       "    .dataframe tbody tr th:only-of-type {\n",
       "        vertical-align: middle;\n",
       "    }\n",
       "\n",
       "    .dataframe tbody tr th {\n",
       "        vertical-align: top;\n",
       "    }\n",
       "\n",
       "    .dataframe thead th {\n",
       "        text-align: right;\n",
       "    }\n",
       "</style>\n",
       "<table border=\"1\" class=\"dataframe\">\n",
       "  <thead>\n",
       "    <tr style=\"text-align: right;\">\n",
       "      <th></th>\n",
       "      <th>Open</th>\n",
       "      <th>High</th>\n",
       "      <th>Low</th>\n",
       "      <th>Last</th>\n",
       "      <th>Volume</th>\n",
       "    </tr>\n",
       "  </thead>\n",
       "  <tbody>\n",
       "    <tr>\n",
       "      <th>0</th>\n",
       "      <td>141.2000</td>\n",
       "      <td>141.260</td>\n",
       "      <td>141.140</td>\n",
       "      <td>141.1800</td>\n",
       "      <td>451000.0</td>\n",
       "    </tr>\n",
       "    <tr>\n",
       "      <th>1</th>\n",
       "      <td>140.5900</td>\n",
       "      <td>140.600</td>\n",
       "      <td>140.530</td>\n",
       "      <td>140.5400</td>\n",
       "      <td>446700.0</td>\n",
       "    </tr>\n",
       "    <tr>\n",
       "      <th>2</th>\n",
       "      <td>140.9000</td>\n",
       "      <td>140.900</td>\n",
       "      <td>140.830</td>\n",
       "      <td>140.8500</td>\n",
       "      <td>190900.0</td>\n",
       "    </tr>\n",
       "    <tr>\n",
       "      <th>3</th>\n",
       "      <td>140.8300</td>\n",
       "      <td>140.860</td>\n",
       "      <td>140.800</td>\n",
       "      <td>140.8600</td>\n",
       "      <td>40600.0</td>\n",
       "    </tr>\n",
       "    <tr>\n",
       "      <th>4</th>\n",
       "      <td>140.4900</td>\n",
       "      <td>140.530</td>\n",
       "      <td>140.440</td>\n",
       "      <td>140.5200</td>\n",
       "      <td>409400.0</td>\n",
       "    </tr>\n",
       "    <tr>\n",
       "      <th>...</th>\n",
       "      <td>...</td>\n",
       "      <td>...</td>\n",
       "      <td>...</td>\n",
       "      <td>...</td>\n",
       "      <td>...</td>\n",
       "    </tr>\n",
       "    <tr>\n",
       "      <th>22010</th>\n",
       "      <td>356.2399</td>\n",
       "      <td>356.355</td>\n",
       "      <td>356.220</td>\n",
       "      <td>356.2700</td>\n",
       "      <td>100894.0</td>\n",
       "    </tr>\n",
       "    <tr>\n",
       "      <th>22011</th>\n",
       "      <td>356.6400</td>\n",
       "      <td>356.740</td>\n",
       "      <td>356.635</td>\n",
       "      <td>356.7399</td>\n",
       "      <td>42318.0</td>\n",
       "    </tr>\n",
       "    <tr>\n",
       "      <th>22012</th>\n",
       "      <td>356.6900</td>\n",
       "      <td>356.700</td>\n",
       "      <td>356.560</td>\n",
       "      <td>356.6000</td>\n",
       "      <td>97078.0</td>\n",
       "    </tr>\n",
       "    <tr>\n",
       "      <th>22013</th>\n",
       "      <td>357.8000</td>\n",
       "      <td>357.810</td>\n",
       "      <td>357.640</td>\n",
       "      <td>357.6600</td>\n",
       "      <td>116020.0</td>\n",
       "    </tr>\n",
       "    <tr>\n",
       "      <th>22014</th>\n",
       "      <td>358.3500</td>\n",
       "      <td>358.420</td>\n",
       "      <td>357.930</td>\n",
       "      <td>358.1000</td>\n",
       "      <td>2920759.0</td>\n",
       "    </tr>\n",
       "  </tbody>\n",
       "</table>\n",
       "<p>22015 rows × 5 columns</p>\n",
       "</div>"
      ],
      "text/plain": [
       "           Open     High      Low      Last     Volume\n",
       "0      141.2000  141.260  141.140  141.1800   451000.0\n",
       "1      140.5900  140.600  140.530  140.5400   446700.0\n",
       "2      140.9000  140.900  140.830  140.8500   190900.0\n",
       "3      140.8300  140.860  140.800  140.8600    40600.0\n",
       "4      140.4900  140.530  140.440  140.5200   409400.0\n",
       "...         ...      ...      ...       ...        ...\n",
       "22010  356.2399  356.355  356.220  356.2700   100894.0\n",
       "22011  356.6400  356.740  356.635  356.7399    42318.0\n",
       "22012  356.6900  356.700  356.560  356.6000    97078.0\n",
       "22013  357.8000  357.810  357.640  357.6600   116020.0\n",
       "22014  358.3500  358.420  357.930  358.1000  2920759.0\n",
       "\n",
       "[22015 rows x 5 columns]"
      ]
     },
     "execution_count": 5,
     "metadata": {},
     "output_type": "execute_result"
    }
   ],
   "source": [
    "data=data[[\"Open\",\"High\",\"Low\",\"Last\",\"Volume\"]]\n",
    "data"
   ]
  },
  {
   "cell_type": "code",
   "execution_count": 6,
   "metadata": {},
   "outputs": [],
   "source": [
    "# Number of datapoints to use in predictions\n",
    "history_points=50\n",
    "# Scaling data\n",
    "MinMaxScaler = preprocessing.MinMaxScaler()"
   ]
  },
  {
   "cell_type": "markdown",
   "metadata": {},
   "source": [
    "### Creating y_scaler for predicted variable"
   ]
  },
  {
   "cell_type": "code",
   "execution_count": 7,
   "metadata": {},
   "outputs": [],
   "source": [
    "# Retriving the real next day open values\n",
    "next_day_close_values = np.array([list(data.loc[:,\"Last\"])[i + history_points] for i in range(len(data) - history_points)])\n",
    "# next_day_open_values = np.array([data.iloc[:,0][i + history_points].copy() for i in range(len(data) - history_points)])\n",
    "# next_day_high_values = np.array([data.iloc[:,1][i + history_points].copy() for i in range(len(data) - history_points)])\n",
    "# next_day_low_values = np.array([data.iloc[:,2][i + history_points].copy() for i in range(len(data) - history_points)])\n",
    "# next_day_volume_values = np.array([data.iloc[:,4][i + history_points].copy() for i in range(len(data) - history_points)])\n",
    "# Expanding the dimentions of next_day_open_values_normalised (5246, 1, 1)\n",
    "unscaled_close_y = np.expand_dims(next_day_close_values, -1)\n",
    "# unscaled_open_y = np.expand_dims(next_day_open_values, -1)\n",
    "# unscaled_high_y = np.expand_dims(next_day_high_values, -1)\n",
    "# unscaled_low_y = np.expand_dims(next_day_low_values, -1)\n",
    "# unscaled_volume_y = np.expand_dims(next_day_volume_values, -1)"
   ]
  },
  {
   "cell_type": "code",
   "execution_count": 8,
   "metadata": {},
   "outputs": [],
   "source": [
    "y_normaliser = preprocessing.MinMaxScaler()\n",
    "y_normaliser_close=y_normaliser.fit(unscaled_close_y)\n",
    "# y_normaliser = preprocessing.MinMaxScaler()\n",
    "# y_normaliser_open=y_normaliser.fit(unscaled_open_y)\n",
    "# y_normaliser = preprocessing.MinMaxScaler()\n",
    "# y_normaliser_high=y_normaliser.fit(unscaled_high_y)\n",
    "# y_normaliser = preprocessing.MinMaxScaler()\n",
    "# y_normaliser_low=y_normaliser.fit(unscaled_low_y)\n",
    "# y_normaliser = preprocessing.MinMaxScaler()\n",
    "# y_normaliser_volume=y_normaliser.fit(unscaled_volume_y)"
   ]
  },
  {
   "cell_type": "markdown",
   "metadata": {},
   "source": [
    "### Making predictions"
   ]
  },
  {
   "cell_type": "code",
   "execution_count": 9,
   "metadata": {},
   "outputs": [],
   "source": [
    "# Predict close value\n",
    "def make_prediction(data, model, y_norm):\n",
    "    # Normalize the input data\n",
    "    normalized_data=MinMaxScaler.fit_transform(data[-50:])\n",
    "    # Predict next day's close\n",
    "    today=model.predict(np.expand_dims(normalized_data, 0))\n",
    "    # Convert the close to real terms\n",
    "    last=y_norm.inverse_transform(today)\n",
    "    return float(last[0][0])"
   ]
  },
  {
   "cell_type": "code",
   "execution_count": 10,
   "metadata": {},
   "outputs": [],
   "source": [
    "def predict_actual_values(data, variable_to_predict, model, y_normaliser):    \n",
    "    # make prediction\n",
    "    prediction=make_prediction(data[-50:], model, y_normaliser)\n",
    "    # converting to actual stock market price\n",
    "    last_prediction=make_prediction(data[-51:-1], model, y_normaliser)\n",
    "    # calculating percent change of from last predicted value\n",
    "    prediction_percent_change=((prediction-last_prediction)/last_prediction)\n",
    "    # getting last actual value\n",
    "    last_actual = data[-3:].iloc[2][variable_to_predict]\n",
    "    # calculating predicted percent change on actual value\n",
    "    predicted_actual_close=last_actual+(last_actual*prediction_percent_change)\n",
    "    return float(predicted_actual_close), last_prediction, prediction_percent_change, last_actual"
   ]
  },
  {
   "cell_type": "markdown",
   "metadata": {},
   "source": [
    "### Buy, sell or hold"
   ]
  },
  {
   "cell_type": "code",
   "execution_count": 11,
   "metadata": {},
   "outputs": [
    {
     "name": "stdout",
     "output_type": "stream",
     "text": [
      "Last Predicted Close: 293.0664978027344\n",
      "Next Predicted Close: 303.0126953125\n",
      "Last Actual Close: 358.1\n",
      "Predicted Actual Close: 370.2533281864395\n"
     ]
    }
   ],
   "source": [
    "predicted_close = make_prediction(data, close_model, y_normaliser_close)\n",
    "predicted_actual, last_prediction, percent_change, last_actual = predict_actual_values(data, \"Last\", close_model, y_normaliser_close)\n",
    "print(f\"Last Predicted Close: {last_prediction}\")\n",
    "print(f\"Next Predicted Close: {predicted_close}\")\n",
    "print(f\"Last Actual Close: {last_actual}\")\n",
    "print(f\"Predicted Actual Close: {predicted_actual}\")"
   ]
  },
  {
   "cell_type": "markdown",
   "metadata": {},
   "source": [
    "#### Trade based off *price* predicted"
   ]
  },
  {
   "cell_type": "code",
   "execution_count": 12,
   "metadata": {},
   "outputs": [
    {
     "name": "stdout",
     "output_type": "stream",
     "text": [
      "Predicted Price Change: 9.946197509765625\n",
      "buy\n"
     ]
    }
   ],
   "source": [
    "buys=[]\n",
    "sells=[]\n",
    "\n",
    "thresh = 5.00\n",
    "diff = predicted_close - last_prediction\n",
    "print(f\"Predicted Price Change: {diff}\")\n",
    "\n",
    "if diff > thresh:\n",
    "    print(\"buy\")\n",
    "elif diff < -thresh:\n",
    "    print(\"sell\")\n",
    "else:\n",
    "    print(\"hold\")"
   ]
  },
  {
   "cell_type": "markdown",
   "metadata": {},
   "source": [
    "#### Trade based off *percent change* predicted"
   ]
  },
  {
   "cell_type": "code",
   "execution_count": 13,
   "metadata": {},
   "outputs": [
    {
     "name": "stdout",
     "output_type": "stream",
     "text": [
      "Predicted Percent Change: 3.393836410622581\n",
      "buy\n"
     ]
    }
   ],
   "source": [
    "thresh = .5\n",
    "change=percent_change*100\n",
    "print(f\"Predicted Percent Change: {change}\")\n",
    "\n",
    "if change > thresh:\n",
    "    print(\"buy\")\n",
    "elif change < -thresh:\n",
    "    print(\"sell\")\n",
    "else:\n",
    "    print(\"hold\")"
   ]
  },
  {
   "cell_type": "code",
   "execution_count": 14,
   "metadata": {},
   "outputs": [],
   "source": [
    "# days_to_predict = 10\n",
    "# index=max(data.index)\n",
    "\n",
    "# for i in range(days_to_predict):\n",
    "#     new_row=pd.DataFrame({\n",
    "#         \"open\":predict_actual_values(data[-50:], \"open\", open_model, y_normaliser_open),\n",
    "#         \"high\":predict_actual_values(data[-50:], \"high\", high_model, y_normaliser_high),\n",
    "#         \"low\":predict_actual_values(data[-50:], \"low\", low_model, y_normaliser_low),\n",
    "#         \"close\":predict_actual_values(data[-50:], \"close\", close_model, y_normaliser_close),\n",
    "#         \"volume\":predict_actual_values(data[-50:], \"volume\", volume_model, y_normaliser_volume)\n",
    "#     }, index=[index+1])\n",
    "#     data=data.append(new_row)"
   ]
  }
 ],
 "metadata": {
  "kernelspec": {
   "display_name": "Python 3",
   "language": "python",
   "name": "python3"
  },
  "language_info": {
   "codemirror_mode": {
    "name": "ipython",
    "version": 3
   },
   "file_extension": ".py",
   "mimetype": "text/x-python",
   "name": "python",
   "nbconvert_exporter": "python",
   "pygments_lexer": "ipython3",
   "version": "3.7.6"
  }
 },
 "nbformat": 4,
 "nbformat_minor": 4
}
